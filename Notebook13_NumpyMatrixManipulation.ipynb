{
 "cells": [
  {
   "cell_type": "markdown",
   "metadata": {},
   "source": [
    "# Mo' Numpy, Mo' Problems\n",
    "\n",
    "This notebook is a quick overview of additional functionality in Numpy not explicitly covered in some of the other notebooks in this course."
   ]
  },
  {
   "cell_type": "code",
   "execution_count": 1,
   "metadata": {
    "collapsed": true
   },
   "outputs": [],
   "source": [
    "import numpy as np"
   ]
  },
  {
   "cell_type": "markdown",
   "metadata": {},
   "source": [
    "# Random numbers"
   ]
  },
  {
   "cell_type": "markdown",
   "metadata": {},
   "source": [
    "Numpy has a rich collection of (pseudo)random number generators. Here is an example; see the documentation for [numpy.random()](https://docs.scipy.org/doc/numpy/reference/routines.random.html) for more details."
   ]
  },
  {
   "cell_type": "code",
   "execution_count": 2,
   "metadata": {},
   "outputs": [
    {
     "data": {
      "text/plain": [
       "array([[  2, -10,   0],\n",
       "       [ -9,   4,  -9],\n",
       "       [ -1,   8,  -7],\n",
       "       [ -5,  -3,   4]])"
      ]
     },
     "execution_count": 2,
     "metadata": {},
     "output_type": "execute_result"
    }
   ],
   "source": [
    "A = np.random.randint(-10, 10, size=(4, 3))\n",
    "A"
   ]
  },
  {
   "cell_type": "markdown",
   "metadata": {},
   "source": [
    "# Aggregations or reductions"
   ]
  },
  {
   "cell_type": "markdown",
   "metadata": {},
   "source": [
    "Suppose you want to reduce the values of a Numpy array to a smaller number of values. Numpy provides a number of such functions that _aggregate_ values. Examples of aggregations include sums, min/max calculations, and averaging, among others."
   ]
  },
  {
   "cell_type": "code",
   "execution_count": 3,
   "metadata": {},
   "outputs": [
    {
     "name": "stdout",
     "output_type": "stream",
     "text": [
      "8 8\n",
      "-10 -10\n",
      "-26\n",
      "-2.16666666667\n",
      "5.69844033243\n"
     ]
    }
   ],
   "source": [
    "print(np.max(A), np.amax(A)) # np.max() and np.amax() are synonyms\n",
    "print(np.min(A), np.amin(A)) # same\n",
    "print(np.sum(A))\n",
    "print(np.mean(A))\n",
    "print(np.std(A))"
   ]
  },
  {
   "cell_type": "markdown",
   "metadata": {},
   "source": [
    "The above examples aggregate over all values. But you can also aggregate along a dimension using the optional `axis` parameter."
   ]
  },
  {
   "cell_type": "code",
   "execution_count": 4,
   "metadata": {},
   "outputs": [
    {
     "name": "stdout",
     "output_type": "stream",
     "text": [
      "Max in each column: [2 8 4]\n",
      "Max in each row: [2 4 8 4]\n"
     ]
    }
   ],
   "source": [
    "print(\"Max in each column:\", np.amax(A, axis=0)) # i.e., aggregate along axis 0, the rows, producing column maximums\n",
    "print(\"Max in each row:\", np.amax(A, axis=1)) # i.e., aggregate along axis 1, the columns, producing row maximums"
   ]
  },
  {
   "cell_type": "markdown",
   "metadata": {},
   "source": [
    "# Universal functions"
   ]
  },
  {
   "cell_type": "markdown",
   "metadata": {},
   "source": [
    "Universal functions apply a given function _elementwise_ to one or more Numpy objects.\n",
    "\n",
    "For instance, `np.abs(A)` takes the absolute value of each element."
   ]
  },
  {
   "cell_type": "code",
   "execution_count": 5,
   "metadata": {},
   "outputs": [
    {
     "name": "stdout",
     "output_type": "stream",
     "text": [
      "[[  2 -10   0]\n",
      " [ -9   4  -9]\n",
      " [ -1   8  -7]\n",
      " [ -5  -3   4]] \n",
      "==>\n",
      " [[ 2 10  0]\n",
      " [ 9  4  9]\n",
      " [ 1  8  7]\n",
      " [ 5  3  4]]\n"
     ]
    }
   ],
   "source": [
    "print(A, \"\\n==>\\n\", np.abs(A))"
   ]
  },
  {
   "cell_type": "markdown",
   "metadata": {},
   "source": [
    "Some universal functions accept multiple, compatible arguments. Given two matrices, $A \\equiv (a_{ij})$ and $B \\equiv (b_{ij})$, the following example, computes a matrix $C$ such that $c_{ij} = \\max(a_{ij}, b_{ij})$."
   ]
  },
  {
   "cell_type": "code",
   "execution_count": 6,
   "metadata": {},
   "outputs": [
    {
     "data": {
      "text/plain": [
       "array([[ 0, -8,  9],\n",
       "       [-9,  9,  4],\n",
       "       [ 9, -5,  0],\n",
       "       [-6, -2, -3]])"
      ]
     },
     "execution_count": 6,
     "metadata": {},
     "output_type": "execute_result"
    }
   ],
   "source": [
    "B = np.random.randint(-10, 10, size=A.shape)\n",
    "B"
   ]
  },
  {
   "cell_type": "code",
   "execution_count": 7,
   "metadata": {},
   "outputs": [
    {
     "data": {
      "text/plain": [
       "array([[ 2, -8,  9],\n",
       "       [-9,  9,  4],\n",
       "       [ 9,  8,  0],\n",
       "       [-5, -2,  4]])"
      ]
     },
     "execution_count": 7,
     "metadata": {},
     "output_type": "execute_result"
    }
   ],
   "source": [
    "C = np.maximum(A, B)\n",
    "C"
   ]
  },
  {
   "cell_type": "markdown",
   "metadata": {},
   "source": [
    "You can also build your own universal functions! For instance, suppose you want to compute, elementwise, $f(x) = e^{-x^2}$ and you have a scalar function that implements $f(x)$:"
   ]
  },
  {
   "cell_type": "code",
   "execution_count": 8,
   "metadata": {},
   "outputs": [
    {
     "data": {
      "text/plain": [
       "0.01831563888873418"
      ]
     },
     "execution_count": 8,
     "metadata": {},
     "output_type": "execute_result"
    }
   ],
   "source": [
    "def f(x):\n",
    "    from math import exp\n",
    "    return exp(-(x**2))\n",
    "\n",
    "f(-2) # i.e., exp(-4) ~= 0.01831563888873418"
   ]
  },
  {
   "cell_type": "markdown",
   "metadata": {},
   "source": [
    "This function accepts 1 input (`x`) and returns a single output. The following will create a new Numpy universal function."
   ]
  },
  {
   "cell_type": "code",
   "execution_count": 9,
   "metadata": {},
   "outputs": [
    {
     "name": "stdout",
     "output_type": "stream",
     "text": [
      "[[  2 -10   0]\n",
      " [ -9   4  -9]\n",
      " [ -1   8  -7]\n",
      " [ -5  -3   4]] \n",
      "=>\n",
      " [[0.01831563888873418 3.720075976020836e-44 1.0]\n",
      " [6.639677199580735e-36 1.1253517471925912e-07 6.639677199580735e-36]\n",
      " [0.36787944117144233 1.603810890548638e-28 5.242885663363464e-22]\n",
      " [1.3887943864964021e-11 0.00012340980408667956 1.1253517471925912e-07]]\n"
     ]
    }
   ],
   "source": [
    "f_np = np.frompyfunc(f, 1, 1) # Creates a universal function from `f()`\n",
    "\n",
    "print(A, \"\\n=>\\n\", f_np(A))"
   ]
  },
  {
   "cell_type": "markdown",
   "metadata": {},
   "source": [
    "# Broadcasting"
   ]
  },
  {
   "cell_type": "markdown",
   "metadata": {},
   "source": [
    "Sometimes we want to combine operations on Numpy arrays that have different shapes but are _compatible_.\n",
    "\n",
    "In the following example, we want to add 3 elementwise to every value in `A`."
   ]
  },
  {
   "cell_type": "code",
   "execution_count": 10,
   "metadata": {},
   "outputs": [
    {
     "name": "stdout",
     "output_type": "stream",
     "text": [
      "[[  2 -10   0]\n",
      " [ -9   4  -9]\n",
      " [ -1   8  -7]\n",
      " [ -5  -3   4]]\n",
      "\n",
      "[[ 5 -7  3]\n",
      " [-6  7 -6]\n",
      " [ 2 11 -4]\n",
      " [-2  0  7]]\n"
     ]
    }
   ],
   "source": [
    "print(A)\n",
    "print()\n",
    "print(A + 3)"
   ]
  },
  {
   "cell_type": "markdown",
   "metadata": {},
   "source": [
    "Technically, `A` and `3` have different shapes: the former is a $4 \\times 3$ matrix, while the latter is a scalar ($1 \\times 1$). However, they are compatible because Numpy has a scheme to _extend_---or **broadcast**---the value 3 into an equivalent matrix object of the same shape, before combining them elementwise."
   ]
  },
  {
   "cell_type": "markdown",
   "metadata": {},
   "source": [
    "To see a more sophisticated example, suppose each row `A[i, :]` are the coordinates of a data point, and we want to compute the centroid (or \"center-of-mass,\" if we imagine each point is a unit mass). That's the same as computing the mean coordinate for each column:"
   ]
  },
  {
   "cell_type": "code",
   "execution_count": 11,
   "metadata": {},
   "outputs": [
    {
     "name": "stdout",
     "output_type": "stream",
     "text": [
      "[[  2 -10   0]\n",
      " [ -9   4  -9]\n",
      " [ -1   8  -7]\n",
      " [ -5  -3   4]] => [-3.25 -0.25 -3.  ]\n"
     ]
    }
   ],
   "source": [
    "A_row_means = np.mean(A, axis=0)\n",
    "print(A, \"=>\", A_row_means)"
   ]
  },
  {
   "cell_type": "markdown",
   "metadata": {},
   "source": [
    "Now, suppose you want to shift the points so that their mean is zero. Even though they don't have the same shape, Numpy will interpret `A - A_rowmeans` in a way that effectively carries out this operation. That is, it will extend or \"replicate\" `A_rowmeans` into rows of a matrix of the same shape as `A` and then perform elementwise subtraction."
   ]
  },
  {
   "cell_type": "code",
   "execution_count": 12,
   "metadata": {},
   "outputs": [
    {
     "data": {
      "text/plain": [
       "array([[ 5.25, -9.75,  3.  ],\n",
       "       [-5.75,  4.25, -6.  ],\n",
       "       [ 2.25,  8.25, -4.  ],\n",
       "       [-1.75, -2.75,  7.  ]])"
      ]
     },
     "execution_count": 12,
     "metadata": {},
     "output_type": "execute_result"
    }
   ],
   "source": [
    "A_row_centered = A - A_row_means\n",
    "A_row_centered"
   ]
  },
  {
   "cell_type": "markdown",
   "metadata": {},
   "source": [
    "Suppose you instead want to mean-center the _columns_ instead of the rows. You could start by computing column means:"
   ]
  },
  {
   "cell_type": "code",
   "execution_count": 13,
   "metadata": {},
   "outputs": [
    {
     "name": "stdout",
     "output_type": "stream",
     "text": [
      "[[  2 -10   0]\n",
      " [ -9   4  -9]\n",
      " [ -1   8  -7]\n",
      " [ -5  -3   4]] => [-2.66666667 -4.66666667  0.         -1.33333333]\n"
     ]
    }
   ],
   "source": [
    "A_col_means = np.mean(A, axis=1)\n",
    "print(A, \"=>\", A_col_means)"
   ]
  },
  {
   "cell_type": "markdown",
   "metadata": {},
   "source": [
    "But the same operation will fail!"
   ]
  },
  {
   "cell_type": "code",
   "execution_count": 14,
   "metadata": {},
   "outputs": [
    {
     "ename": "ValueError",
     "evalue": "operands could not be broadcast together with shapes (4,3) (4,) ",
     "output_type": "error",
     "traceback": [
      "\u001b[0;31m---------------------------------------------------------------------------\u001b[0m",
      "\u001b[0;31mValueError\u001b[0m                                Traceback (most recent call last)",
      "\u001b[0;32m<ipython-input-14-318dabe58a82>\u001b[0m in \u001b[0;36m<module>\u001b[0;34m()\u001b[0m\n\u001b[0;32m----> 1\u001b[0;31m \u001b[0mA\u001b[0m \u001b[0;34m-\u001b[0m \u001b[0mA_col_means\u001b[0m \u001b[0;31m# Fails, throwing a `ValueError`\u001b[0m\u001b[0;34m\u001b[0m\u001b[0m\n\u001b[0m",
      "\u001b[0;31mValueError\u001b[0m: operands could not be broadcast together with shapes (4,3) (4,) "
     ]
    }
   ],
   "source": [
    "A - A_col_means # Fails, throwing a `ValueError`"
   ]
  },
  {
   "cell_type": "markdown",
   "metadata": {},
   "source": [
    "The error reports that these shapes are not compatible. So how can you fix it?\n",
    "\n",
    "**The broadcasting rule.** One way is to learn Numpy's convention for **[broadcasting](https://docs.scipy.org/doc/numpy/reference/ufuncs.html#broadcasting)**. Numpy starts by looking at the shapes of the objects:"
   ]
  },
  {
   "cell_type": "code",
   "execution_count": 15,
   "metadata": {},
   "outputs": [
    {
     "name": "stdout",
     "output_type": "stream",
     "text": [
      "(4, 3) (3,)\n"
     ]
    }
   ],
   "source": [
    "print(A.shape, A_row_means.shape)"
   ]
  },
  {
   "cell_type": "markdown",
   "metadata": {},
   "source": [
    "These are compatible if, starting from _right_ to _left_, the dimensions match **or** one of the dimensions is 1. This convention of moving from right to left is referred to as matching the _trailing dimensions_. In this example, the rightmost dimensions of each object are both 3, so they match. Since `A_row_means` has no more dimensions, it can be replicated to match the remaining dimensions of `A`."
   ]
  },
  {
   "cell_type": "markdown",
   "metadata": {},
   "source": [
    "By contrast, consider the shapes of `A` and `A_col_means`:"
   ]
  },
  {
   "cell_type": "code",
   "execution_count": 16,
   "metadata": {},
   "outputs": [
    {
     "name": "stdout",
     "output_type": "stream",
     "text": [
      "(4, 3) (4,)\n"
     ]
    }
   ],
   "source": [
    "print(A.shape, A_col_means.shape)"
   ]
  },
  {
   "cell_type": "markdown",
   "metadata": {},
   "source": [
    "In this case, per the broadcasting rule, the trailing dimensions of 3 and 4 do not match. Therefore, the broadcast rule fails. One way to get the desired behavior is to modify `A_col_means` to have a unit trailing dimension. In this case, you can use Numpy's [`reshape()`](https://docs.scipy.org/doc/numpy/reference/generated/numpy.reshape.html) to convert `A_col_means` into a shape that has an explicit trailing dimension of size 1."
   ]
  },
  {
   "cell_type": "code",
   "execution_count": 17,
   "metadata": {},
   "outputs": [
    {
     "name": "stdout",
     "output_type": "stream",
     "text": [
      "[[-2.66666667]\n",
      " [-4.66666667]\n",
      " [ 0.        ]\n",
      " [-1.33333333]] => (4, 1)\n"
     ]
    }
   ],
   "source": [
    "A_col_means2 = np.reshape(A_col_means, (len(A_col_means), 1))\n",
    "print(A_col_means2, \"=>\", A_col_means2.shape)"
   ]
  },
  {
   "cell_type": "markdown",
   "metadata": {},
   "source": [
    "Now the trailing dimension equals 1, so it can be matched against the trailing dimension of `A`. The next dimension is the same between the two objects, so Numpy knows it can replicate accordingly."
   ]
  },
  {
   "cell_type": "code",
   "execution_count": 18,
   "metadata": {},
   "outputs": [
    {
     "name": "stdout",
     "output_type": "stream",
     "text": [
      "[[  2 -10   0]\n",
      " [ -9   4  -9]\n",
      " [ -1   8  -7]\n",
      " [ -5  -3   4]] \n",
      "- [[-2.66666667]\n",
      " [-4.66666667]\n",
      " [ 0.        ]\n",
      " [-1.33333333]]\n",
      "=>\n",
      " [[ 4.66666667 -7.33333333  2.66666667]\n",
      " [-4.33333333  8.66666667 -4.33333333]\n",
      " [-1.          8.         -7.        ]\n",
      " [-3.66666667 -1.66666667  5.33333333]]\n"
     ]
    }
   ],
   "source": [
    "print(A, \"\\n-\", A_col_means2)\n",
    "print(\"=>\\n\", A - A_col_means2)"
   ]
  },
  {
   "cell_type": "markdown",
   "metadata": {
    "collapsed": true
   },
   "source": [
    "**Fin!** That marks the end of this notebook. If you want to learn more, check out the second edition of [Python for Data Analysis](http://shop.oreilly.com/product/0636920050896.do) (released in October 2017)."
   ]
  }
 ],
 "metadata": {
  "kernelspec": {
   "display_name": "Python 3",
   "language": "python",
   "name": "python3"
  },
  "language_info": {
   "codemirror_mode": {
    "name": "ipython",
    "version": 3
   },
   "file_extension": ".py",
   "mimetype": "text/x-python",
   "name": "python",
   "nbconvert_exporter": "python",
   "pygments_lexer": "ipython3",
   "version": "3.5.2"
  }
 },
 "nbformat": 4,
 "nbformat_minor": 2
}
