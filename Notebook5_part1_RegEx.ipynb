{
 "cells": [
  {
   "cell_type": "markdown",
   "metadata": {
    "nbgrader": {
     "grade": false,
     "grade_id": "cell-68fd8fe196863861",
     "locked": true,
     "schema_version": 1,
     "solution": false
    }
   },
   "source": [
    "# Part 0 of 2: Simple string processing review\n",
    "\n",
    "This notebook accompanies the videos for Topic 5: Preprocessing unstructured text."
   ]
  },
  {
   "cell_type": "code",
   "execution_count": 1,
   "metadata": {
    "collapsed": true
   },
   "outputs": [],
   "source": [
    "text = \"sgtEEEr2020.0\""
   ]
  },
  {
   "cell_type": "code",
   "execution_count": 2,
   "metadata": {},
   "outputs": [
    {
     "name": "stdout",
     "output_type": "stream",
     "text": [
      "1. False\n",
      "2. [True, True, True, True, True, True, True, False, False, False, False, False, False]\n"
     ]
    }
   ],
   "source": [
    "# Strings have methods for checking \"global\" string properties\n",
    "print(\"1.\", text.isalpha())\n",
    "\n",
    "# These can also be applied per character\n",
    "print(\"2.\", [c.isalpha() for c in text])"
   ]
  },
  {
   "cell_type": "code",
   "execution_count": 3,
   "metadata": {},
   "outputs": [
    {
     "name": "stdout",
     "output_type": "stream",
     "text": [
      "BELOW: (global) -> (per character)\n",
      "False --> [False, False, False, False, False, False, False, True, True, True, True, False, True]\n",
      "False --> [False, False, False, False, False, False, False, False, False, False, False, False, False]\n",
      "False --> [True, True, True, False, False, False, True, False, False, False, False, False, False]\n",
      "False --> [False, False, False, True, True, True, False, False, False, False, False, False, False]\n",
      "False --> [False, False, False, False, False, False, False, True, True, True, True, False, True]\n"
     ]
    }
   ],
   "source": [
    "# Here are a bunch of additional useful methods\n",
    "print(\"BELOW: (global) -> (per character)\")\n",
    "print(text.isdigit(), \"-->\", [c.isdigit() for c in text])\n",
    "print(text.isspace(), \"-->\", [c.isspace() for c in text])\n",
    "print(text.islower(), \"-->\", [c.islower() for c in text])\n",
    "print(text.isupper(), \"-->\", [c.isupper() for c in text])\n",
    "print(text.isnumeric(), \"-->\", [c.isnumeric() for c in text])"
   ]
  },
  {
   "cell_type": "markdown",
   "metadata": {
    "nbgrader": {
     "grade": false,
     "grade_id": "cell-0a99319dc0dd5f6c",
     "locked": true,
     "schema_version": 1,
     "solution": false
    }
   },
   "source": [
    "**Exercise 0** (1 point). Create a new function that checks whether a given input string is a properly formatted social security number, i.e., has the pattern, `XXX-XX-XXXX`, _including_ the separator dashes, where each `X` is a digit. It should return `True` if so or `False` otherwise."
   ]
  },
  {
   "cell_type": "code",
   "execution_count": 4,
   "metadata": {
    "nbgrader": {
     "grade": false,
     "grade_id": "is_ssn",
     "locked": false,
     "schema_version": 1,
     "solution": true
    }
   },
   "outputs": [],
   "source": [
    "def is_ssn(s):\n",
    "#\n",
    "# YOUR CODE HERE\n",
    "    ssn_check = [char.isnumeric() for char in s]\n",
    "    return ssn_check == [True, True, True, False, True, True, False, True, True, True, True]\n",
    "        \n",
    "#is_ssn('123-45-6789')"
   ]
  },
  {
   "cell_type": "code",
   "execution_count": 5,
   "metadata": {
    "nbgrader": {
     "grade": true,
     "grade_id": "is_ssn_test",
     "locked": true,
     "points": 1,
     "schema_version": 1,
     "solution": false
    }
   },
   "outputs": [
    {
     "name": "stdout",
     "output_type": "stream",
     "text": [
      "\n",
      "(Passed!)\n"
     ]
    }
   ],
   "source": [
    "# Test cell: `is_snn_test`\n",
    "assert is_ssn('832-38-1847')\n",
    "assert not is_ssn('832 -38 -  1847')\n",
    "assert not is_ssn('832-bc-3847')\n",
    "assert not is_ssn('832381847')\n",
    "assert not is_ssn('8323-8-1847')\n",
    "assert not is_ssn('abc-de-ghij')\n",
    "print(\"\\n(Passed!)\")"
   ]
  },
  {
   "cell_type": "markdown",
   "metadata": {},
   "source": [
    "# Regular expressions\n",
    "\n",
    "Part 1 hints at the general problem of finding patterns in text. A handy tool for this problem is Python's [regular expression module](https://docs.python.org/3/howto/regex.html).\n",
    "\n",
    "A _regular expression_ is specially formatted pattern, written as a string. Matching patterns with regular expressions has 3 steps:\n",
    "\n",
    "1. You come up with a pattern to find.\n",
    "2. You compile it into a _pattern object_.\n",
    "3. You apply the pattern object to a string, to find _matches_, i.e., instances of the pattern within the string.\n",
    "\n",
    "> What follows is just a small sample of what is possible with regular expressions in Python; refer to the [regular expression documentation](https://docs.python.org/3/howto/regex.html) for many more examples and details."
   ]
  },
  {
   "cell_type": "code",
   "execution_count": 8,
   "metadata": {},
   "outputs": [
    {
     "name": "stdout",
     "output_type": "stream",
     "text": [
      "Help on module re:\n",
      "\n",
      "NAME\n",
      "    re - Support for regular expressions (RE).\n",
      "\n",
      "DESCRIPTION\n",
      "    This module provides regular expression matching operations similar to\n",
      "    those found in Perl.  It supports both 8-bit and Unicode strings; both\n",
      "    the pattern and the strings being processed can contain null bytes and\n",
      "    characters outside the US ASCII range.\n",
      "    \n",
      "    Regular expressions can contain both special and ordinary characters.\n",
      "    Most ordinary characters, like \"A\", \"a\", or \"0\", are the simplest\n",
      "    regular expressions; they simply match themselves.  You can\n",
      "    concatenate ordinary characters, so last matches the string 'last'.\n",
      "    \n",
      "    The special characters are:\n",
      "        \".\"      Matches any character except a newline.\n",
      "        \"^\"      Matches the start of the string.\n",
      "        \"$\"      Matches the end of the string or just before the newline at\n",
      "                 the end of the string.\n",
      "        \"*\"      Matches 0 or more (greedy) repetitions of the preceding RE.\n",
      "                 Greedy means that it will match as many repetitions as possible.\n",
      "        \"+\"      Matches 1 or more (greedy) repetitions of the preceding RE.\n",
      "        \"?\"      Matches 0 or 1 (greedy) of the preceding RE.\n",
      "        *?,+?,?? Non-greedy versions of the previous three special characters.\n",
      "        {m,n}    Matches from m to n repetitions of the preceding RE.\n",
      "        {m,n}?   Non-greedy version of the above.\n",
      "        \"\\\\\"     Either escapes special characters or signals a special sequence.\n",
      "        []       Indicates a set of characters.\n",
      "                 A \"^\" as the first character indicates a complementing set.\n",
      "        \"|\"      A|B, creates an RE that will match either A or B.\n",
      "        (...)    Matches the RE inside the parentheses.\n",
      "                 The contents can be retrieved or matched later in the string.\n",
      "        (?aiLmsux) Set the A, I, L, M, S, U, or X flag for the RE (see below).\n",
      "        (?:...)  Non-grouping version of regular parentheses.\n",
      "        (?P<name>...) The substring matched by the group is accessible by name.\n",
      "        (?P=name)     Matches the text matched earlier by the group named name.\n",
      "        (?#...)  A comment; ignored.\n",
      "        (?=...)  Matches if ... matches next, but doesn't consume the string.\n",
      "        (?!...)  Matches if ... doesn't match next.\n",
      "        (?<=...) Matches if preceded by ... (must be fixed length).\n",
      "        (?<!...) Matches if not preceded by ... (must be fixed length).\n",
      "        (?(id/name)yes|no) Matches yes pattern if the group with id/name matched,\n",
      "                           the (optional) no pattern otherwise.\n",
      "    \n",
      "    The special sequences consist of \"\\\\\" and a character from the list\n",
      "    below.  If the ordinary character is not on the list, then the\n",
      "    resulting RE will match the second character.\n",
      "        \\number  Matches the contents of the group of the same number.\n",
      "        \\A       Matches only at the start of the string.\n",
      "        \\Z       Matches only at the end of the string.\n",
      "        \\b       Matches the empty string, but only at the start or end of a word.\n",
      "        \\B       Matches the empty string, but not at the start or end of a word.\n",
      "        \\d       Matches any decimal digit; equivalent to the set [0-9] in\n",
      "                 bytes patterns or string patterns with the ASCII flag.\n",
      "                 In string patterns without the ASCII flag, it will match the whole\n",
      "                 range of Unicode digits.\n",
      "        \\D       Matches any non-digit character; equivalent to [^\\d].\n",
      "        \\s       Matches any whitespace character; equivalent to [ \\t\\n\\r\\f\\v] in\n",
      "                 bytes patterns or string patterns with the ASCII flag.\n",
      "                 In string patterns without the ASCII flag, it will match the whole\n",
      "                 range of Unicode whitespace characters.\n",
      "        \\S       Matches any non-whitespace character; equivalent to [^\\s].\n",
      "        \\w       Matches any alphanumeric character; equivalent to [a-zA-Z0-9_]\n",
      "                 in bytes patterns or string patterns with the ASCII flag.\n",
      "                 In string patterns without the ASCII flag, it will match the\n",
      "                 range of Unicode alphanumeric characters (letters plus digits\n",
      "                 plus underscore).\n",
      "                 With LOCALE, it will match the set [0-9_] plus characters defined\n",
      "                 as letters for the current locale.\n",
      "        \\W       Matches the complement of \\w.\n",
      "        \\\\       Matches a literal backslash.\n",
      "    \n",
      "    This module exports the following functions:\n",
      "        match     Match a regular expression pattern to the beginning of a string.\n",
      "        fullmatch Match a regular expression pattern to all of a string.\n",
      "        search    Search a string for the presence of a pattern.\n",
      "        sub       Substitute occurrences of a pattern found in a string.\n",
      "        subn      Same as sub, but also return the number of substitutions made.\n",
      "        split     Split a string by the occurrences of a pattern.\n",
      "        findall   Find all occurrences of a pattern in a string.\n",
      "        finditer  Return an iterator yielding a match object for each match.\n",
      "        compile   Compile a pattern into a RegexObject.\n",
      "        purge     Clear the regular expression cache.\n",
      "        escape    Backslash all non-alphanumerics in a string.\n",
      "    \n",
      "    Some of the functions in this module takes flags as optional parameters:\n",
      "        A  ASCII       For string patterns, make \\w, \\W, \\b, \\B, \\d, \\D\n",
      "                       match the corresponding ASCII character categories\n",
      "                       (rather than the whole Unicode categories, which is the\n",
      "                       default).\n",
      "                       For bytes patterns, this flag is the only available\n",
      "                       behaviour and needn't be specified.\n",
      "        I  IGNORECASE  Perform case-insensitive matching.\n",
      "        L  LOCALE      Make \\w, \\W, \\b, \\B, dependent on the current locale.\n",
      "        M  MULTILINE   \"^\" matches the beginning of lines (after a newline)\n",
      "                       as well as the string.\n",
      "                       \"$\" matches the end of lines (before a newline) as well\n",
      "                       as the end of the string.\n",
      "        S  DOTALL      \".\" matches any character at all, including the newline.\n",
      "        X  VERBOSE     Ignore whitespace and comments for nicer looking RE's.\n",
      "        U  UNICODE     For compatibility only. Ignored for string patterns (it\n",
      "                       is the default), and forbidden for bytes patterns.\n",
      "    \n",
      "    This module also defines an exception 'error'.\n",
      "\n",
      "CLASSES\n",
      "    builtins.Exception(builtins.BaseException)\n",
      "        sre_constants.error\n",
      "    \n",
      "    class error(builtins.Exception)\n",
      "     |  Common base class for all non-exit exceptions.\n",
      "     |  \n",
      "     |  Method resolution order:\n",
      "     |      error\n",
      "     |      builtins.Exception\n",
      "     |      builtins.BaseException\n",
      "     |      builtins.object\n",
      "     |  \n",
      "     |  Methods defined here:\n",
      "     |  \n",
      "     |  __init__(self, msg, pattern=None, pos=None)\n",
      "     |      Initialize self.  See help(type(self)) for accurate signature.\n",
      "     |  \n",
      "     |  ----------------------------------------------------------------------\n",
      "     |  Data descriptors defined here:\n",
      "     |  \n",
      "     |  __weakref__\n",
      "     |      list of weak references to the object (if defined)\n",
      "     |  \n",
      "     |  ----------------------------------------------------------------------\n",
      "     |  Methods inherited from builtins.Exception:\n",
      "     |  \n",
      "     |  __new__(*args, **kwargs) from builtins.type\n",
      "     |      Create and return a new object.  See help(type) for accurate signature.\n",
      "     |  \n",
      "     |  ----------------------------------------------------------------------\n",
      "     |  Methods inherited from builtins.BaseException:\n",
      "     |  \n",
      "     |  __delattr__(self, name, /)\n",
      "     |      Implement delattr(self, name).\n",
      "     |  \n",
      "     |  __getattribute__(self, name, /)\n",
      "     |      Return getattr(self, name).\n",
      "     |  \n",
      "     |  __reduce__(...)\n",
      "     |      helper for pickle\n",
      "     |  \n",
      "     |  __repr__(self, /)\n",
      "     |      Return repr(self).\n",
      "     |  \n",
      "     |  __setattr__(self, name, value, /)\n",
      "     |      Implement setattr(self, name, value).\n",
      "     |  \n",
      "     |  __setstate__(...)\n",
      "     |  \n",
      "     |  __str__(self, /)\n",
      "     |      Return str(self).\n",
      "     |  \n",
      "     |  with_traceback(...)\n",
      "     |      Exception.with_traceback(tb) --\n",
      "     |      set self.__traceback__ to tb and return self.\n",
      "     |  \n",
      "     |  ----------------------------------------------------------------------\n",
      "     |  Data descriptors inherited from builtins.BaseException:\n",
      "     |  \n",
      "     |  __cause__\n",
      "     |      exception cause\n",
      "     |  \n",
      "     |  __context__\n",
      "     |      exception context\n",
      "     |  \n",
      "     |  __dict__\n",
      "     |  \n",
      "     |  __suppress_context__\n",
      "     |  \n",
      "     |  __traceback__\n",
      "     |  \n",
      "     |  args\n",
      "\n",
      "FUNCTIONS\n",
      "    compile(pattern, flags=0)\n",
      "        Compile a regular expression pattern, returning a pattern object.\n",
      "    \n",
      "    escape(pattern)\n",
      "        Escape all the characters in pattern except ASCII letters, numbers and '_'.\n",
      "    \n",
      "    findall(pattern, string, flags=0)\n",
      "        Return a list of all non-overlapping matches in the string.\n",
      "        \n",
      "        If one or more capturing groups are present in the pattern, return\n",
      "        a list of groups; this will be a list of tuples if the pattern\n",
      "        has more than one group.\n",
      "        \n",
      "        Empty matches are included in the result.\n",
      "    \n",
      "    finditer(pattern, string, flags=0)\n",
      "        Return an iterator over all non-overlapping matches in the\n",
      "        string.  For each match, the iterator returns a match object.\n",
      "        \n",
      "        Empty matches are included in the result.\n",
      "    \n",
      "    fullmatch(pattern, string, flags=0)\n",
      "        Try to apply the pattern to all of the string, returning\n",
      "        a match object, or None if no match was found.\n",
      "    \n",
      "    match(pattern, string, flags=0)\n",
      "        Try to apply the pattern at the start of the string, returning\n",
      "        a match object, or None if no match was found.\n",
      "    \n",
      "    purge()\n",
      "        Clear the regular expression caches\n",
      "    \n",
      "    search(pattern, string, flags=0)\n",
      "        Scan through string looking for a match to the pattern, returning\n",
      "        a match object, or None if no match was found.\n",
      "    \n",
      "    split(pattern, string, maxsplit=0, flags=0)\n",
      "        Split the source string by the occurrences of the pattern,\n",
      "        returning a list containing the resulting substrings.  If\n",
      "        capturing parentheses are used in pattern, then the text of all\n",
      "        groups in the pattern are also returned as part of the resulting\n",
      "        list.  If maxsplit is nonzero, at most maxsplit splits occur,\n",
      "        and the remainder of the string is returned as the final element\n",
      "        of the list.\n",
      "    \n",
      "    sub(pattern, repl, string, count=0, flags=0)\n",
      "        Return the string obtained by replacing the leftmost\n",
      "        non-overlapping occurrences of the pattern in string by the\n",
      "        replacement repl.  repl can be either a string or a callable;\n",
      "        if a string, backslash escapes in it are processed.  If it is\n",
      "        a callable, it's passed the match object and must return\n",
      "        a replacement string to be used.\n",
      "    \n",
      "    subn(pattern, repl, string, count=0, flags=0)\n",
      "        Return a 2-tuple containing (new_string, number).\n",
      "        new_string is the string obtained by replacing the leftmost\n",
      "        non-overlapping occurrences of the pattern in the source\n",
      "        string by the replacement repl.  number is the number of\n",
      "        substitutions that were made. repl can be either a string or a\n",
      "        callable; if a string, backslash escapes in it are processed.\n",
      "        If it is a callable, it's passed the match object and must\n",
      "        return a replacement string to be used.\n",
      "    \n",
      "    template(pattern, flags=0)\n",
      "        Compile a template pattern, returning a pattern object\n",
      "\n",
      "DATA\n",
      "    A = <RegexFlag.ASCII: 256>\n",
      "    ASCII = <RegexFlag.ASCII: 256>\n",
      "    DOTALL = <RegexFlag.DOTALL: 16>\n",
      "    I = <RegexFlag.IGNORECASE: 2>\n",
      "    IGNORECASE = <RegexFlag.IGNORECASE: 2>\n",
      "    L = <RegexFlag.LOCALE: 4>\n",
      "    LOCALE = <RegexFlag.LOCALE: 4>\n",
      "    M = <RegexFlag.MULTILINE: 8>\n",
      "    MULTILINE = <RegexFlag.MULTILINE: 8>\n",
      "    S = <RegexFlag.DOTALL: 16>\n",
      "    U = <RegexFlag.UNICODE: 32>\n",
      "    UNICODE = <RegexFlag.UNICODE: 32>\n",
      "    VERBOSE = <RegexFlag.VERBOSE: 64>\n",
      "    X = <RegexFlag.VERBOSE: 64>\n",
      "    __all__ = ['match', 'fullmatch', 'search', 'sub', 'subn', 'split', 'fi...\n",
      "\n",
      "VERSION\n",
      "    2.2.1\n",
      "\n",
      "FILE\n",
      "    c:\\users\\maica\\anaconda3\\lib\\re.py\n",
      "\n",
      "\n"
     ]
    }
   ],
   "source": [
    "help(re)"
   ]
  },
  {
   "cell_type": "code",
   "execution_count": 7,
   "metadata": {},
   "outputs": [],
   "source": [
    "import re\n"
   ]
  },
  {
   "cell_type": "markdown",
   "metadata": {
    "nbgrader": {
     "grade": false,
     "grade_id": "cell-c953dd7aa8b5f9a5",
     "locked": true,
     "schema_version": 1,
     "solution": false
    }
   },
   "source": [
    "## Basics\n",
    "\n",
    "Let's see how this scheme works for the simplest case, in which the pattern is an exact substring."
   ]
  },
  {
   "cell_type": "code",
   "execution_count": 9,
   "metadata": {},
   "outputs": [
    {
     "name": "stdout",
     "output_type": "stream",
     "text": [
      "<_sre.SRE_Match object; span=(16, 19), match='fox'>\n"
     ]
    }
   ],
   "source": [
    "pattern = 'fox'\n",
    "pattern_matcher = re.compile(pattern)\n",
    "\n",
    "input = 'The quick brown fox jumps over the lazy dog'\n",
    "matches = pattern_matcher.search(input)\n",
    "print(matches)"
   ]
  },
  {
   "cell_type": "markdown",
   "metadata": {},
   "source": [
    "You can also query matches for more information."
   ]
  },
  {
   "cell_type": "code",
   "execution_count": 10,
   "metadata": {},
   "outputs": [
    {
     "name": "stdout",
     "output_type": "stream",
     "text": [
      "fox\n",
      "16\n",
      "19\n",
      "(16, 19)\n"
     ]
    }
   ],
   "source": [
    "print(matches.group())\n",
    "print(matches.start())\n",
    "print(matches.end())\n",
    "print(matches.span())"
   ]
  },
  {
   "cell_type": "markdown",
   "metadata": {},
   "source": [
    "**Module-level searching.** For infrequently used patterns, you can also skip creating the pattern object and just call the module-level search function, `re.search()`."
   ]
  },
  {
   "cell_type": "code",
   "execution_count": 11,
   "metadata": {},
   "outputs": [
    {
     "name": "stdout",
     "output_type": "stream",
     "text": [
      "Found jump @ (20, 24)\n"
     ]
    }
   ],
   "source": [
    "matches_2 = re.search ('jump', input)\n",
    "assert matches_2 is not None\n",
    "print (\"Found\", matches_2.group (), \"@\", matches_2.span ())"
   ]
  },
  {
   "cell_type": "markdown",
   "metadata": {},
   "source": [
    "**Other Search Methods**\n",
    "1. match() - \tDetermine if the RE matches at the beginning of the string.\n",
    "2. search() - \tScan through a string, looking for any location where this RE matches.\n",
    "3. findall() - \tFind all substrings where the RE matches, and returns them as a list.\n",
    "4. finditer() -\tFind all substrings where the RE matches, and returns them as an iterator."
   ]
  },
  {
   "cell_type": "markdown",
   "metadata": {},
   "source": [
    "**Creating pattern groups**"
   ]
  },
  {
   "cell_type": "code",
   "execution_count": 12,
   "metadata": {},
   "outputs": [
    {
     "name": "stdout",
     "output_type": "stream",
     "text": [
      "('Rich', None, 'Vuduc')\n",
      "('Rich', 'S ', 'Vuduc')\n",
      "('Rich', 'Salamander ', 'Vuduc')\n"
     ]
    }
   ],
   "source": [
    "# Make the above more readable with a re.VERBOSE pattern\n",
    "re_names2 = re.compile ('''^              # Beginning of string\n",
    "                           ([a-zA-Z]+)    # First name\n",
    "                           \\s             # At least one space\n",
    "                           ([a-zA-Z]+\\s)? # Optional middle name\n",
    "                           ([a-zA-Z]+)    # Last name\n",
    "                           $              # End of string\n",
    "                        ''',\n",
    "                        re.VERBOSE)\n",
    "print (re_names2.match ('Rich Vuduc').groups ())\n",
    "print (re_names2.match ('Rich S Vuduc').groups ())\n",
    "print (re_names2.match ('Rich Salamander Vuduc').groups ())"
   ]
  },
  {
   "cell_type": "markdown",
   "metadata": {},
   "source": [
    "**Tagging pattern groups**"
   ]
  },
  {
   "cell_type": "code",
   "execution_count": 13,
   "metadata": {},
   "outputs": [
    {
     "name": "stdout",
     "output_type": "stream",
     "text": [
      "Rich\n",
      "S \n",
      "Vuduc\n"
     ]
    }
   ],
   "source": [
    "# Named groups\n",
    "re_names3 = re.compile ('''^\n",
    "                           (?P<first>[a-zA-Z]+)\n",
    "                           \\s\n",
    "                           (?P<middle>[a-zA-Z]+\\s)?\n",
    "                           \\s*\n",
    "                           (?P<last>[a-zA-Z]+)\n",
    "                           $\n",
    "                        ''',\n",
    "                        re.VERBOSE)\n",
    "print (re_names3.match ('Rich Vuduc').group ('first'))\n",
    "print (re_names3.match ('Rich S Vuduc').group ('middle'))\n",
    "print (re_names3.match ('Rich Salamander Vuduc').group ('last'))"
   ]
  },
  {
   "cell_type": "markdown",
   "metadata": {},
   "source": [
    "**A regular expression debugger.** There are several online tools to help you write and debug your regular expressions. See, for instance, [regex101](https://regex101.com/)."
   ]
  },
  {
   "cell_type": "markdown",
   "metadata": {},
   "source": [
    "## Email addresses\n",
    "\n",
    "In the next exercise, you'll apply what you've learned about regular expressions to build a pattern matcher for email addresses.\n",
    "\n",
    "Although there is a [formal specification of what constitutes a valid email address](https://tools.ietf.org/html/rfc5322#section-3.4.1), for this exercise, let's use the following simplified rules.\n",
    "\n",
    "* We will restrict our attention to ASCII addresses and ignore Unicode. If you don't know what that means, don't worry about it---you shouldn't need to do anything special given our code templates, below.\n",
    "* An email address has two parts, the username and the domain name. These are separated by an `@` character.\n",
    "* A username **must begin with an alphabetic** character. It may be followed by any number of additional _alphanumeric_ characters or any of the following special characters: `.` (period), `-` (hyphen), `_` (underscore), or `+` (plus).\n",
    "* A domain name **must end with an alphabetic** character. It may consist of any of the following characters: alphanumeric characters, `.` (period), `-` (hyphen), or `_` (underscore).\n",
    "* Alphabetic characters may be uppercase or lowercase.\n",
    "* No whitespace characters are allowed.\n",
    "\n",
    "Valid domain names usually have additional restrictions, e.g., there are a limited number of endings, such as `.com`, `.edu`, and so on. However, for this exercise you may ignore this fact."
   ]
  },
  {
   "cell_type": "markdown",
   "metadata": {
    "nbgrader": {
     "grade": false,
     "grade_id": "cell-bccd5fe8a605f83c",
     "locked": true,
     "schema_version": 1,
     "solution": false
    }
   },
   "source": [
    "**Exercise 1** (2 points). Write a function `parse_email(s)` that, given an email address `s`, returns a tuple, `(user-id, domain)` corresponding to the user name and domain name.\n",
    "\n",
    "For instance, given `richie@cc.gatech.edu` it should return `(richie, cc.gatech.edu)`.\n",
    "\n",
    "Your function should parse the email only if it exactly matches the email specification. For example, if there are leading or trailing spaces, the function should *not* match those. See the test cases for examples.\n",
    "\n",
    "If the input is not a valid email address, the function should raise a `ValueError`.\n",
    "\n",
    "> The requirement, \"raise a `ValueError`\" refers to a technique for handling errors in a program known as _exception handling_. The Python documentation covers [exceptions](https://docs.python.org/3/tutorial/errors.html) in more detail, including [raising `ValueError` objects](https://docs.python.org/3/tutorial/errors.html#raising-exceptions)."
   ]
  },
  {
   "cell_type": "code",
   "execution_count": 99,
   "metadata": {},
   "outputs": [],
   "source": [
    "def parse_email (s):\n",
    "    \"\"\"Parses a string as an email address, returning an (id, domain) pair.\"\"\"\n",
    "#\n",
    "# YOUR CODE HERE\n",
    "\n",
    "    try:\n",
    "        re_match = re.compile ('''^\n",
    "                           (?P<user>^[a-zA-Z][\\w\\-\\.\\+]+)\n",
    "                           \\@\n",
    "                           (?P<domain>[\\w\\-\\.\\+]+[a-zA-Z]$)\n",
    "                           $\n",
    "                        ''',\n",
    "                        re.VERBOSE)\n",
    "        \n",
    "        re_match.match(s).group('user')\n",
    "        re_match.match(s).group('domain')\n",
    "        \n",
    "    except AttributeError:\n",
    "        raise ValueError('Invalid Email')\n",
    "\n",
    "    else:\n",
    "        user = re_match.match(s).group('user')\n",
    "        domain = re_match.match(s).group('domain')\n",
    "        return user, domain    \n",
    "    \n",
    "# parse_email('Ma+ilei@Vargas')"
   ]
  },
  {
   "cell_type": "code",
   "execution_count": 100,
   "metadata": {
    "nbgrader": {
     "grade": true,
     "grade_id": "parse_email_test",
     "locked": true,
     "points": 2,
     "schema_version": 1,
     "solution": false
    }
   },
   "outputs": [
    {
     "name": "stdout",
     "output_type": "stream",
     "text": [
      "Testing valid email: 'richie@cc.gatech.edu'\n",
      "Testing valid email: 'bertha_hugely@sampson.edu'\n",
      "Testing valid email: 'JKRowling@Huge-Books.org'\n",
      "Testing invalid email: 'x @hpcgarage.org'\n",
      "==> Correctly throws an exception!\n",
      "Testing invalid email: '   quiggy.smith38x@gmail.com'\n",
      "==> Correctly throws an exception!\n",
      "Testing invalid email: 'richie@cc.gatech.edu  '\n",
      "==> Correctly throws an exception!\n"
     ]
    }
   ],
   "source": [
    "#### Test cell: `parse_email_test`\n",
    "\n",
    "def pass_case(u, d):\n",
    "    s = u + '@' + d\n",
    "    msg = \"Testing valid email: '{}'\".format(s)\n",
    "    print(msg)\n",
    "    assert parse_email(s) == (u, d), msg\n",
    "    \n",
    "pass_case('richie', 'cc.gatech.edu')\n",
    "pass_case('bertha_hugely', 'sampson.edu')\n",
    "pass_case('JKRowling', 'Huge-Books.org')\n",
    "\n",
    "def fail_case(s):\n",
    "    msg = \"Testing invalid email: '{}'\".format(s)\n",
    "    print(msg)\n",
    "    try:\n",
    "        parse_email(s)\n",
    "    except ValueError:\n",
    "        print(\"==> Correctly throws an exception!\")\n",
    "    else:\n",
    "        raise AssertionError(\"Should have, but did not, throw an exception!\")\n",
    "        \n",
    "fail_case('x @hpcgarage.org')\n",
    "fail_case('   quiggy.smith38x@gmail.com')\n",
    "fail_case('richie@cc.gatech.edu  ')"
   ]
  },
  {
   "cell_type": "markdown",
   "metadata": {},
   "source": [
    "## Phone numbers"
   ]
  },
  {
   "cell_type": "markdown",
   "metadata": {
    "nbgrader": {
     "grade": false,
     "grade_id": "cell-a0c6c3084205c049",
     "locked": true,
     "schema_version": 1,
     "solution": false
    }
   },
   "source": [
    "**Exercise 2** (2 points). Write a function to parse US phone numbers written in the canonical \"(404) 555-1212\" format, i.e., a three-digit area code enclosed in parentheses followed by a seven-digit local number in three-hyphen-four digit format. It should also **ignore** all leading and trailing spaces, as well as any spaces that appear between the area code and local numbers. However, it should **not** accept any spaces in the area code (e.g., in '(404)') nor should it in the local number.\n",
    "\n",
    "It should return a triple of strings, `(area_code, first_three, last_four)`. \n",
    "\n",
    "If the input is not a valid phone number, it should raise a `ValueError`."
   ]
  },
  {
   "cell_type": "code",
   "execution_count": 113,
   "metadata": {
    "nbgrader": {
     "grade": false,
     "grade_id": "parse_phone1",
     "locked": false,
     "schema_version": 1,
     "solution": true
    }
   },
   "outputs": [],
   "source": [
    "def parse_phone1 (s):\n",
    "#\n",
    "# YOUR CODE HERE\n",
    "    try:\n",
    "        re_match = re.compile ('''^\n",
    "                   (?P<area>\\s*[\\(\\d\\)]{3,5})\n",
    "                   \\s*\n",
    "                   (?P<first>[\\d]{3,3})\n",
    "                   \\-\n",
    "                   (?P<last>[\\d]{4,4}\\s*)\n",
    "                   $\n",
    "                ''',\n",
    "                re.VERBOSE)\n",
    "        \n",
    "        re_match.match(s).group('area')\n",
    "        re_match.match(s).group('first')\n",
    "        re_match.match(s).group('last')\n",
    "        \n",
    "    except AttributeError:\n",
    "        raise ValueError('Invalid Phone Number')\n",
    "\n",
    "    else:\n",
    "        area = re_match.match(s).group('area').strip().strip('(').strip(')')\n",
    "        first = re_match.match(s).group('first')\n",
    "        last = re_match.match(s).group('last').strip()\n",
    "        \n",
    "        return area, first, last\n",
    "    \n",
    "#parse_phone1('   (389)     768-2925   ')"
   ]
  },
  {
   "cell_type": "code",
   "execution_count": 114,
   "metadata": {
    "nbgrader": {
     "grade": true,
     "grade_id": "parse_phone1_test",
     "locked": true,
     "points": 2,
     "schema_version": 1,
     "solution": false
    }
   },
   "outputs": [
    {
     "name": "stdout",
     "output_type": "stream",
     "text": [
      "Should pass: '(404) 121-2121'\n",
      "Should pass: '(404)121-2121'\n",
      "Should pass: '     (896)098-4381    '\n",
      "Should pass: '  (969)  132-6725     '\n",
      "Should pass: '  (720) 281-0816 '\n",
      "Should pass: '(524) 444-0395    '\n",
      "Should pass: ' (522) 911-7665    '\n",
      "Should fail: '404-121-2121'\n",
      "==> Correctly throws an exception.\n",
      "Should fail: '(404)555 -1212'\n",
      "==> Correctly throws an exception.\n",
      "Should fail: ' ( 404)121-2121'\n",
      "==> Correctly throws an exception.\n",
      "Should fail: '(abc) def-ghij'\n",
      "==> Correctly throws an exception.\n"
     ]
    }
   ],
   "source": [
    "# Test cell: `parse_phone1_test`\n",
    "\n",
    "def rand_spaces(m=5):\n",
    "    from random import randint\n",
    "    return ' ' * randint(0, m)\n",
    "\n",
    "def asm_phone(a, l, r):\n",
    "    return rand_spaces() + '(' + a + ')' + rand_spaces() + l + '-' + r + rand_spaces()\n",
    "\n",
    "def gen_digits(k):\n",
    "    from random import choice # 3.5 compatible; 3.6 has `choices()`\n",
    "    DIGITS = '0123456789'\n",
    "    return ''.join([choice(DIGITS) for _ in range(k)])\n",
    "\n",
    "def pass_phone(p=None, a=None, l=None, r=None):\n",
    "    if p is None:\n",
    "        a = gen_digits(3)\n",
    "        l = gen_digits(3)\n",
    "        r = gen_digits(4)\n",
    "        p = asm_phone(a, l, r)\n",
    "    else:\n",
    "        assert a is not None and l is not None and r is not None, \"Need to supply sample solution.\"\n",
    "    msg = \"Should pass: '{}'\".format(p)\n",
    "    print(msg)\n",
    "    p_you = parse_phone1(p)\n",
    "    assert p_you == (a, l, r), \"Got {} instead of ('{}', '{}', '{}')\".format(p_you, a, l, r)\n",
    "    \n",
    "def fail_phone(s):\n",
    "    msg = \"Should fail: '{}'\".format(s)\n",
    "    print(msg)\n",
    "    try:\n",
    "        p_you = parse_phone1(s)\n",
    "    except ValueError:\n",
    "        print(\"==> Correctly throws an exception.\")\n",
    "    else:\n",
    "        raise AssertionError(\"Failed to throw a `ValueError` exception!\")\n",
    "\n",
    "\n",
    "# Cases that should definitely pass:\n",
    "pass_phone('(404) 121-2121', '404', '121', '2121')\n",
    "pass_phone('(404)121-2121', '404', '121', '2121')\n",
    "for _ in range(5):\n",
    "    pass_phone()\n",
    "    \n",
    "fail_phone(\"404-121-2121\")\n",
    "fail_phone('(404)555 -1212')\n",
    "fail_phone(\" ( 404)121-2121\")\n",
    "fail_phone(\"(abc) def-ghij\")"
   ]
  },
  {
   "cell_type": "markdown",
   "metadata": {
    "nbgrader": {
     "grade": false,
     "grade_id": "cell-92b8099165470979",
     "locked": true,
     "schema_version": 1,
     "solution": false
    }
   },
   "source": [
    "**Exercise 3** (3 points). Implement an enhanced phone number parser that can handle any of these patterns.\n",
    "\n",
    "* (404) 555-1212\n",
    "* (404) 5551212\n",
    "* 404-555-1212\n",
    "* 404-5551212\n",
    "* 404555-1212\n",
    "* 4045551212\n",
    "\n",
    "As before, it should not be sensitive to leading or trailing spaces. Also, for the patterns in which the area code is enclosed in parentheses, it should not be sensitive to the number of spaces separating the area code from the remainder of the number."
   ]
  },
  {
   "cell_type": "code",
   "execution_count": 179,
   "metadata": {
    "nbgrader": {
     "grade": false,
     "grade_id": "parse_phone2",
     "locked": false,
     "schema_version": 1,
     "solution": true
    }
   },
   "outputs": [
    {
     "data": {
      "text/plain": [
       "('404', '555', '1212')"
      ]
     },
     "execution_count": 179,
     "metadata": {},
     "output_type": "execute_result"
    }
   ],
   "source": [
    "def parse_phone2 (s):\n",
    "#\n",
    "# YOUR CODE HERE\n",
    "    try:\n",
    "        re_match = re.compile ('''^\n",
    "                   (?P<area>\\s*[\\(\\d\\)]{3,5}(?(1)\\)))\n",
    "                   \\-?\\s*?\n",
    "                   (?P<first>[\\d]{3})\n",
    "                   \\-?\n",
    "                   (?P<last>[\\d]{4}\\s*)\n",
    "                   $\n",
    "                ''',\n",
    "                re.VERBOSE)\n",
    "        \n",
    "        re_match.match(s).group('area')\n",
    "        re_match.match(s).group('first')\n",
    "        re_match.match(s).group('last')\n",
    "        \n",
    "    except AttributeError:\n",
    "        raise ValueError('Invalid Phone Number')\n",
    "\n",
    "    else:\n",
    "        area = re_match.match(s).group('area').strip().strip('(').strip(')')\n",
    "        first = re_match.match(s).group('first')\n",
    "        last = re_match.match(s).group('last').strip()\n",
    "        \n",
    "        return area, first, last\n",
    "# failure_cases = ['+1 (404) 555-3355',\n",
    "#                  '404.555.3355',\n",
    "#                  '404 555-3355',\n",
    "#                  '404 555 3355',\n",
    "#                  '(404-555-1212'\n",
    "#                 ]\n",
    "\n",
    "# pass_phone2(\"  (404)   555-1212  \", '404', '555', '1212')\n",
    "# pass_phone2(\"(404)555-1212  \", '404', '555', '1212')\n",
    "# pass_phone2(\"  404-555-1212 \", '404', '555', '1212')\n",
    "# pass_phone2(\"  404-5551212 \", '404', '555', '1212')\n",
    "# pass_phone2(\" 4045551212\", '404', '555', '1212')\n",
    "\n",
    "parse_phone2('(404-555-1212')"
   ]
  },
  {
   "cell_type": "code",
   "execution_count": 180,
   "metadata": {
    "nbgrader": {
     "grade": true,
     "grade_id": "parse_phone2_test",
     "locked": true,
     "points": 3,
     "schema_version": 1,
     "solution": false
    }
   },
   "outputs": [
    {
     "name": "stdout",
     "output_type": "stream",
     "text": [
      "Should pass: '  (404)   555-1212  '\n",
      "Should pass: '(404)555-1212  '\n",
      "Should pass: '  404-555-1212 '\n",
      "Should pass: '  404-5551212 '\n",
      "Should pass: ' 4045551212'\n",
      "Should pass: '7940673629 '\n",
      "Should pass: '(651)  6026604  '\n",
      "Should pass: '     (173)  708-3460     '\n",
      "Should pass: '  3982243042 '\n",
      "Should pass: ' (464)1721587'\n",
      "Should fail: '+1 (404) 555-3355'\n",
      "==> Function correctly raised an exception.\n",
      "Should fail: '404.555.3355'\n",
      "==> Function correctly raised an exception.\n",
      "Should fail: '404 555-3355'\n"
     ]
    },
    {
     "ename": "AssertionError",
     "evalue": "Function did *not* raise an exception as expected!",
     "output_type": "error",
     "traceback": [
      "\u001b[1;31m---------------------------------------------------------------------------\u001b[0m",
      "\u001b[1;31mAssertionError\u001b[0m                            Traceback (most recent call last)",
      "\u001b[1;32m<ipython-input-180-ce0aa033b19b>\u001b[0m in \u001b[0;36m<module>\u001b[1;34m()\u001b[0m\n\u001b[0;32m     57\u001b[0m                 ]\n\u001b[0;32m     58\u001b[0m \u001b[1;32mfor\u001b[0m \u001b[0ms\u001b[0m \u001b[1;32min\u001b[0m \u001b[0mfailure_cases\u001b[0m\u001b[1;33m:\u001b[0m\u001b[1;33m\u001b[0m\u001b[0m\n\u001b[1;32m---> 59\u001b[1;33m     \u001b[0mfail_phone2\u001b[0m\u001b[1;33m(\u001b[0m\u001b[0ms\u001b[0m\u001b[1;33m)\u001b[0m\u001b[1;33m\u001b[0m\u001b[0m\n\u001b[0m\u001b[0;32m     60\u001b[0m \u001b[1;33m\u001b[0m\u001b[0m\n\u001b[0;32m     61\u001b[0m \u001b[0mprint\u001b[0m\u001b[1;33m(\u001b[0m\u001b[1;34m\"\\n(Passed!)\"\u001b[0m\u001b[1;33m)\u001b[0m\u001b[1;33m\u001b[0m\u001b[0m\n",
      "\u001b[1;32m<ipython-input-180-ce0aa033b19b>\u001b[0m in \u001b[0;36mfail_phone2\u001b[1;34m(s)\u001b[0m\n\u001b[0;32m     48\u001b[0m         \u001b[0mprint\u001b[0m \u001b[1;33m(\u001b[0m\u001b[1;34m\"==> Function correctly raised an exception.\"\u001b[0m\u001b[1;33m)\u001b[0m\u001b[1;33m\u001b[0m\u001b[0m\n\u001b[0;32m     49\u001b[0m     \u001b[1;32melse\u001b[0m\u001b[1;33m:\u001b[0m\u001b[1;33m\u001b[0m\u001b[0m\n\u001b[1;32m---> 50\u001b[1;33m         \u001b[1;32mraise\u001b[0m \u001b[0mAssertionError\u001b[0m \u001b[1;33m(\u001b[0m\u001b[1;34m\"Function did *not* raise an exception as expected!\"\u001b[0m\u001b[1;33m)\u001b[0m\u001b[1;33m\u001b[0m\u001b[0m\n\u001b[0m\u001b[0;32m     51\u001b[0m \u001b[1;33m\u001b[0m\u001b[0m\n\u001b[0;32m     52\u001b[0m failure_cases = ['+1 (404) 555-3355',\n",
      "\u001b[1;31mAssertionError\u001b[0m: Function did *not* raise an exception as expected!"
     ]
    }
   ],
   "source": [
    "# Test cell: `parse_phone2_test`\n",
    "\n",
    "def asm_phone2(a, l, r):\n",
    "    from random import random\n",
    "    x = random()\n",
    "    if x < 0.33:\n",
    "        a2 = '(' + a + ')' + rand_spaces()\n",
    "    elif x < 0.67:\n",
    "        a2 = a + '-'\n",
    "    else:\n",
    "        a2 = a\n",
    "    y = random()\n",
    "    if y < 0.5:\n",
    "        l2 = l + '-'\n",
    "    else:\n",
    "        l2 = l\n",
    "    return rand_spaces() + a2 + l2 + r + rand_spaces()\n",
    "\n",
    "def pass_phone2(p=None, a=None, l=None, r=None):\n",
    "    if p is None:\n",
    "        a = gen_digits(3)\n",
    "        l = gen_digits(3)\n",
    "        r = gen_digits(4)\n",
    "        p = asm_phone2(a, l, r)\n",
    "    else:\n",
    "        assert a is not None and l is not None and r is not None, \"Need to supply sample solution.\"\n",
    "    msg = \"Should pass: '{}'\".format(p)\n",
    "    print(msg)\n",
    "    p_you = parse_phone2(p)\n",
    "    assert p_you == (a, l, r), \"Got {} instead of ('{}', '{}', '{}')\".format(p_you, a, l, r)\n",
    "    \n",
    "pass_phone2(\"  (404)   555-1212  \", '404', '555', '1212')\n",
    "pass_phone2(\"(404)555-1212  \", '404', '555', '1212')\n",
    "pass_phone2(\"  404-555-1212 \", '404', '555', '1212')\n",
    "pass_phone2(\"  404-5551212 \", '404', '555', '1212')\n",
    "pass_phone2(\" 4045551212\", '404', '555', '1212')\n",
    "    \n",
    "for _ in range(5):\n",
    "    pass_phone2()\n",
    "    \n",
    "    \n",
    "def fail_phone2(s):\n",
    "    msg = \"Should fail: '{}'\".format(s)\n",
    "    print(msg)\n",
    "    try:\n",
    "        parse_phone2 (s)\n",
    "    except ValueError:\n",
    "        print (\"==> Function correctly raised an exception.\")\n",
    "    else:\n",
    "        raise AssertionError (\"Function did *not* raise an exception as expected!\")\n",
    "        \n",
    "failure_cases = ['+1 (404) 555-3355',\n",
    "                 '404.555.3355',\n",
    "                 '404 555-3355',\n",
    "                 '404 555 3355',\n",
    "                 '(404-555-1212'\n",
    "                ]\n",
    "for s in failure_cases:\n",
    "    fail_phone2(s)\n",
    "    \n",
    "print(\"\\n(Passed!)\")"
   ]
  },
  {
   "cell_type": "markdown",
   "metadata": {
    "collapsed": true,
    "nbgrader": {
     "grade": false,
     "grade_id": "cell-4e60d75d4b47de9c",
     "locked": true,
     "schema_version": 1,
     "solution": false
    }
   },
   "source": [
    "**Fin!** This cell marks the end of Part 0. Don't forget to save, restart and rerun all cells, and submit it. When you are done, proceed to Parts 1 and 2."
   ]
  }
 ],
 "metadata": {
  "celltoolbar": "Create Assignment",
  "kernelspec": {
   "display_name": "Python 3",
   "language": "python",
   "name": "python3"
  },
  "language_info": {
   "codemirror_mode": {
    "name": "ipython",
    "version": 3
   },
   "file_extension": ".py",
   "mimetype": "text/x-python",
   "name": "python",
   "nbconvert_exporter": "python",
   "pygments_lexer": "ipython3",
   "version": "3.6.1"
  }
 },
 "nbformat": 4,
 "nbformat_minor": 1
}
