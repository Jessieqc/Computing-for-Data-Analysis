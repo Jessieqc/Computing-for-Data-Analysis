{
 "cells": [
  {
   "cell_type": "markdown",
   "metadata": {
    "nbgrader": {
     "grade": false,
     "grade_id": "cell-7850c17f2b74b4f8",
     "locked": true,
     "schema_version": 1,
     "solution": false
    }
   },
   "source": [
    "# Part 0: Representing numbers as strings\n",
    "\n",
    "The following exercises are designed to reinforce your understanding of how we can view the encoding of a number as string of digits in a given base.\n",
    "\n",
    "> If you are interested in exploring this topic in more depth, see the [\"Floating-Point Arithmetic\" section](https://docs.python.org/3/tutorial/floatingpoint.html) of the Python documentation."
   ]
  },
  {
   "cell_type": "markdown",
   "metadata": {
    "nbgrader": {
     "grade": false,
     "grade_id": "cell-451d6ed7e49d5e04",
     "locked": true,
     "schema_version": 1,
     "solution": false
    }
   },
   "source": [
    "## Integers as strings\n",
    "\n",
    "Consider the string of digits:\n",
    "\n",
    "```python\n",
    "    '16180339887'\n",
    "```\n",
    "\n",
    "If you are told this string is for a decimal number, meaning the base of its digits is ten (10), then its value is given by\n",
    "\n",
    "$$\n",
    "    [\\![ \\mathtt{16180339887} ]\\!]_{10} = (1 \\times 10^{10}) + (6 \\times 10^9) + (1 \\times 10^8) + \\cdots + (8 \\times 10^1) + (7 \\times 10^0) = 16,\\!180,\\!339,\\!887.\n",
    "$$\n",
    "\n",
    "Similarly, consider the following string of digits:\n",
    "\n",
    "```python\n",
    "    '100111010'\n",
    "```\n",
    "\n",
    "If you are told this string is for a binary number, meaning its base is two (2), then its value is\n",
    "\n",
    "$$\n",
    "    [\\![ \\mathtt{100111010} ]\\!]_2 = (1 \\times 2^9) + (1 \\times 2^6) + \\cdots + (1 \\times 2^1).\n",
    "$$\n",
    "\n",
    "(What is this value?)\n",
    "\n",
    "And in general, the value of a string of $d+1$ digits in base $b$ is,\n",
    "\n",
    "$$\n",
    "  [\\![ s_d s_{d-1} \\cdots s_1 s_0 ]\\!]_b = \\sum_{i=0}^{d} s_i \\times b^i.\n",
    "$$"
   ]
  },
  {
   "cell_type": "markdown",
   "metadata": {
    "nbgrader": {
     "grade": false,
     "grade_id": "cell-984e8904a5b92c45",
     "locked": true,
     "schema_version": 1,
     "solution": false
    }
   },
   "source": [
    "**Bases greater than ten (10).** Observe that when the base at most ten, the digits are the usual decimal digits, `0`, `1`, `2`, ..., `9`. What happens when the base is greater than ten? For this notebook, suppose we are interested in bases that are at most 36; then, we will adopt the convention of using lowercase Roman letters, `a`, `b`, `c`, ..., `z` for \"digits\" whose values correspond to 10, 11, 12, ..., 35.\n",
    "\n",
    "> Before moving on to that exercise, run the following code cell. It has three functions, which are used in some of the testing code. Given a base, one checks whether a single-character input string is a valid digit; and the other returns a list of all valid string digits. (The third one simply prints the valid digit list, given a base.) If you want some additional practice reading code, you might inspect these functions."
   ]
  },
  {
   "cell_type": "code",
   "execution_count": 2,
   "metadata": {},
   "outputs": [
    {
     "name": "stdout",
     "output_type": "stream",
     "text": [
      "The valid base 6 digits: 0, 1, 2, 3, 4, 5\n",
      "The valid base 16 digits: 0, 1, 2, 3, 4, 5, 6, 7, 8, 9, a, b, c, d, e, f\n",
      "The valid base 23 digits: 0, 1, 2, 3, 4, 5, 6, 7, 8, 9, a, b, c, d, e, f, g, h, i, j, k, l, m\n"
     ]
    }
   ],
   "source": [
    "def is_valid_strdigit(c, base=2):\n",
    "    if type (c) is not str: return False # Reject non-string digits\n",
    "    if (type (base) is not int) or (base < 2) or (base > 36): return False # Reject non-integer bases outside 2-36\n",
    "    if base < 2 or base > 36: return False # Reject bases outside 2-36\n",
    "    if len (c) != 1: return False # Reject anything that is not a single character\n",
    "    if '0' <= c <= str (min (base-1, 9)): return True # Numerical digits for bases up to 10\n",
    "    if base > 10 and 0 <= ord (c) - ord ('a') < base-10: return True # Letter digits for bases > 10\n",
    "    return False # Reject everything else\n",
    "\n",
    "def valid_strdigits(base=2):\n",
    "    POSSIBLE_DIGITS = '0123456789abcdefghijklmnopqrstuvwxyz'\n",
    "    return [c for c in POSSIBLE_DIGITS if is_valid_strdigit(c, base)]\n",
    "\n",
    "def print_valid_strdigits(base=2):\n",
    "    valid_list = valid_strdigits(base)\n",
    "    if not valid_list:\n",
    "        msg = '(none)'\n",
    "    else:\n",
    "        msg = ', '.join([c for c in valid_list])\n",
    "    print('The valid base ' + str(base) + ' digits: ' + msg)\n",
    "    \n",
    "# Quick demo:\n",
    "print_valid_strdigits(6)\n",
    "print_valid_strdigits(16)\n",
    "print_valid_strdigits(23)"
   ]
  },
  {
   "cell_type": "markdown",
   "metadata": {},
   "source": [
    "**Exercise 0** (1 point). Write a function, `eval_strint(s, base)`, which given a string of digits `s` and a base `base`, returns its value as an integer.\n",
    "\n",
    "That is, this function essentially implements the mathematical object, $[\\![ s ]\\!]_b$, which would convert a string $s$ to its numerical value, assuming its digits are given in base $b$. For example:\n",
    "\n",
    "```python\n",
    "    eval_strint('100111010', base=2) == 314\n",
    "```\n",
    "\n",
    "> Hint: Python makes this exercise very easy. Search Python's online documentation for information about the `int()` constructor to see how you can apply it to solve this problem. (You have encountered this constructor already, in Lab/Notebook 2.)"
   ]
  },
  {
   "cell_type": "code",
   "execution_count": 3,
   "metadata": {
    "nbgrader": {
     "grade": false,
     "grade_id": "eval_strint",
     "locked": false,
     "schema_version": 1,
     "solution": true
    }
   },
   "outputs": [],
   "source": [
    "def eval_strint (s, base=2):\n",
    "    assert type(s) is str\n",
    "    assert 2 <= base <= 36\n",
    "#\n",
    "# YOUR CODE HERE\n",
    "    return int(s, base)\n",
    "#eval_strint('a205b064', 16)"
   ]
  },
  {
   "cell_type": "code",
   "execution_count": 4,
   "metadata": {
    "nbgrader": {
     "grade": true,
     "grade_id": "eval_strint_test",
     "locked": true,
     "points": 1,
     "schema_version": 1,
     "solution": false
    }
   },
   "outputs": [
    {
     "name": "stdout",
     "output_type": "stream",
     "text": [
      "'16180339887' -> 16180339887\n",
      "'100111010' -> 314\n",
      "'a205b064' -> 2718281828\n",
      "\n",
      "(Passed!)\n"
     ]
    }
   ],
   "source": [
    "# Test: `eval_strint_test`\n",
    "\n",
    "def check_eval_strint(s, v, base=2):\n",
    "    v_s = eval_strint(s, base)\n",
    "    msg = \"'{}' -> {}\".format (s, v_s)\n",
    "    print(msg)\n",
    "    assert v_s == v, \"Results do not match expected solution.\"\n",
    "\n",
    "# Test 0: From the videos\n",
    "check_eval_strint('16180339887', 16180339887, base=10)\n",
    "\n",
    "# Test 1: Also from the videos\n",
    "check_eval_strint('100111010', 314, base=2)\n",
    "\n",
    "# Test 2\n",
    "check_eval_strint('a205b064', 2718281828, base=16)\n",
    "\n",
    "print (\"\\n(Passed!)\")"
   ]
  },
  {
   "cell_type": "markdown",
   "metadata": {
    "nbgrader": {
     "grade": false,
     "grade_id": "cell-ba1a6cefcc7cb356",
     "locked": true,
     "schema_version": 1,
     "solution": false
    }
   },
   "source": [
    "## Fractional values\n",
    "\n",
    "Recall that we can extend the basic string representation to include a fractional part by interpreting digits to the right of the \"fractional point\" (i.e., \"the dot\") as having negative indices. For instance,\n",
    "\n",
    "$$\n",
    "    [\\![ \\mathtt{3.14} ]\\!]_{10} = (3 \\times 10^0) + (1 \\times 10^{-1}) + (4 \\times 10^{-2}).\n",
    "$$\n",
    "\n",
    "Or, in general,\n",
    "\n",
    "$$\n",
    "  [\\![ s_d s_{d-1} \\cdots s_1 s_0 \\, \\underset{\\Large\\uparrow}{\\Huge\\mathtt{.}} \\, s_{-1} s_{-2} \\cdots s_{-r} ]\\!]_b = \\sum_{i=-r}^{d} s_i \\times b^i.\n",
    "$$"
   ]
  },
  {
   "cell_type": "markdown",
   "metadata": {},
   "source": [
    "**Exercise 1** (3 points). Suppose a string of digits `s` in base `base` contains up to one fractional point. Complete the function, `eval_strfrac(s, base)`, so that it returns its corresponding floating-point value. Your function should *always* return a value of type `float`, even if the input happens to correspond to an exact integer.\n",
    "\n",
    "Examples:\n",
    "\n",
    "```python\n",
    "    eval_strfrac('3.14', base=10) ~= 3.14\n",
    "    eval_strfrac('100.101', base=2) == 4.625\n",
    "```\n",
    "\n",
    "> Because of potential floating-point roundoff errors, as explained in the videos, conversions based on the general polynomial formula given previously will not be exact. The testing code will include a built-in tolerance to account for such errors."
   ]
  },
  {
   "cell_type": "code",
   "execution_count": 5,
   "metadata": {
    "nbgrader": {
     "grade": false,
     "grade_id": "eval_strfrac",
     "locked": false,
     "schema_version": 1,
     "solution": true
    }
   },
   "outputs": [],
   "source": [
    "def is_valid_strfrac(s, base=2):\n",
    "    return all([is_valid_strdigit(c, base) for c in s if c != '.']) \\\n",
    "        and (len([c for c in s if c == '.']) <= 1)\n",
    "    \n",
    "def eval_strfrac(s, base=2):\n",
    "    assert is_valid_strfrac(s, base), \"'{}' contains invalid digits for a base-{} number.\".format(s, base)\n",
    "    \n",
    "#\n",
    "# YOUR CODE HERE\n",
    "    alpha_to_num = {'a':10, 'b':11, 'c':12, 'd':13, 'e':14, 'f':15, 'g':16, 'h':17, 'i':18, 'j':19, 'k':20,\n",
    "                   'l':21, 'm':22, 'n':23, 'o':24, 'p':25, 'q':26, 'r':27, 's':28, 't':29, 'u':30, 'v':31,\n",
    "                   'w':32, 'x':33, 'y':34, 'z':35}\n",
    "    \n",
    "    if '.' in s:\n",
    "        whole, dec = s.split('.')\n",
    "        whole_base = 0.0\n",
    "        for i, n in enumerate(reversed(whole)):\n",
    "            if n.isalpha():\n",
    "                n = alpha_to_num[n]\n",
    "            whole_base += float(n)*base**i\n",
    "\n",
    "        dec_base = 0.0\n",
    "        for i, n in enumerate(dec):\n",
    "            if n.isalpha():\n",
    "                n = alpha_to_num[n]\n",
    "            dec_base += float(n)*base**-(i+1)\n",
    "        result = whole_base + dec_base\n",
    "    else:\n",
    "        whole_base = 0.0\n",
    "        for i, n in enumerate(reversed(s)):\n",
    "            if n.isalpha():\n",
    "                n = alpha_to_num[n]\n",
    "            whole_base += float(n)*base**i\n",
    "        result = whole_base\n",
    "    return result\n",
    "\n",
    "#eval_strfrac('f.a', 16)"
   ]
  },
  {
   "cell_type": "code",
   "execution_count": 6,
   "metadata": {
    "nbgrader": {
     "grade": true,
     "grade_id": "eval_strfrac_test",
     "locked": true,
     "points": 3,
     "schema_version": 1,
     "solution": false
    }
   },
   "outputs": [
    {
     "name": "stdout",
     "output_type": "stream",
     "text": [
      "[3.14]_{10} ~= 3.14: You computed 3.14, which differs by 0.0.\n",
      "[100.101]_{2} ~= 4.625: You computed 4.625, which differs by 0.0.\n",
      "[11.0010001111]_{2} ~= 3.1396484375: You computed 3.1396484375, which differs by 0.0.\n",
      "[f.a]_{16} ~= 15.625: You computed 15.625, which differs by 0.0.\n",
      "[khr.l]_{29} ~= 17340.724137931036: You computed 17340.724137931036, which differs by 0.0.\n",
      "[a.7ff]_{16} ~= 10.499755859375: You computed 10.499755859375, which differs by 0.0.\n",
      "[l9]_{22} ~= 471.0: You computed 471.0, which differs by 0.0.\n",
      "[88aa3.388]_{13} ~= 247887.28174783796: You computed 247887.28174783796, which differs by 0.0.\n",
      "[7k.o7g]_{27} ~= 209.89930396789106: You computed 209.8993039678911, which differs by 2.842170943040401e-14.\n",
      "[mmj.k1m]_{24} ~= 13219.83666087963: You computed 13219.83666087963, which differs by 0.0.\n",
      "[ol55]_{30} ~= 667055.0: You computed 667055.0, which differs by 0.0.\n",
      "[203.430]_{8} ~= 131.546875: You computed 131.546875, which differs by 0.0.\n",
      "[00a7b.3h]_{18} ~= 3377.2191358024693: You computed 3377.2191358024693, which differs by 0.0.\n",
      "[063]_{19} ~= 117.0: You computed 117.0, which differs by 0.0.\n",
      "\n",
      "(Passed!)\n"
     ]
    }
   ],
   "source": [
    "# Test: `eval_strfrac_test`\n",
    "\n",
    "def check_eval_strfrac(s, v_true, base=2, tol=1e-7):\n",
    "    v_you = eval_strfrac(s, base)\n",
    "    assert type(v_you) is float, \"Your function did not return a `float` as instructed.\"\n",
    "    delta_v = v_you - v_true\n",
    "    msg = \"[{}]_{{{}}} ~= {}: You computed {}, which differs by {}.\".format(s, base, v_true,\n",
    "                                                                            v_you, delta_v)\n",
    "    print(msg)\n",
    "    assert abs(delta_v) <= tol, \"Difference exceeds expected tolerance.\"\n",
    "    \n",
    "# Test cases from the video\n",
    "check_eval_strfrac('3.14', 3.14, base=10)\n",
    "check_eval_strfrac('100.101', 4.625, base=2)\n",
    "check_eval_strfrac('11.0010001111', 3.1396484375, base=2)\n",
    "\n",
    "# A hex test case\n",
    "check_eval_strfrac('f.a', 15.625, base=16)\n",
    "\n",
    "# Random test cases\n",
    "def check_random_strfrac():\n",
    "    from random import randint\n",
    "    b = randint(2, 36) # base\n",
    "    d = randint(0, 5) # leading digits\n",
    "    r = randint(0, 5) # trailing digits\n",
    "    v_true = 0.0\n",
    "    s = ''\n",
    "    possible_digits = valid_strdigits(b)\n",
    "    for i in range(-r, d+1):\n",
    "        v_i = randint(0, b-1)\n",
    "        s_i = possible_digits[v_i]\n",
    "\n",
    "        v_true += v_i * (b**i)\n",
    "        s = s_i + s\n",
    "        if i == -1:\n",
    "            s = '.' + s\n",
    "    check_eval_strfrac(s, v_true, base=b)\n",
    "    \n",
    "for _ in range(10):\n",
    "    check_random_strfrac()\n",
    "\n",
    "print(\"\\n(Passed!)\")"
   ]
  },
  {
   "cell_type": "markdown",
   "metadata": {
    "nbgrader": {
     "grade": false,
     "grade_id": "cell-543fbfe9909512d0",
     "locked": true,
     "schema_version": 1,
     "solution": false
    }
   },
   "source": [
    "## Floating-point encodings\n",
    "\n",
    "Recall that a floating-point encoding or format is a normalized scientific notation consisting of a _base_, a _sign_, a fractional _significand_ or _mantissa_, and a signed integer _exponent_. Conceptually, think of it as a tuple of the form, $(\\pm, [\\![s]\\!]_b, x)$, where $b$ is the digit base (e.g., decimal, binary); $\\pm$ is the sign bit; $s$ is the significand encoded as a base $b$ string; and $x$ is the exponent. For simplicity, let's assume that only the significand $s$ is encoded in base $b$ and treat $x$ as an integer value. Mathematically, the value of this tuple is $\\pm \\, [\\![s]\\!]_b \\times b^x$."
   ]
  },
  {
   "cell_type": "markdown",
   "metadata": {
    "nbgrader": {
     "grade": false,
     "grade_id": "cell-b9f97cde14b444f2",
     "locked": true,
     "schema_version": 1,
     "solution": false
    }
   },
   "source": [
    "**IEEE double-precision.** For instance, Python, R, and MATLAB, by default, store their floating-point values in a standard tuple representation known as _IEEE double-precision format_. It's a 64-bit binary encoding having the following components:\n",
    "\n",
    "- The most significant bit indicates the sign of the value.\n",
    "- The significand is a 53-bit string with an _implicit_ leading one. That is, if the bit string representation of $s$ is $s_0 . s_1 s_2 \\cdots s_d$, then $s_0=1$ always and is never stored explicitly. That also means $d=52$.\n",
    "- The exponent is an 11-bit string and is treated as a signed integer in the range $[-1022, 1023]$.\n",
    "\n",
    "Thus, the smallest positive value in this format $2^{-1022} \\approx 2.23 \\times 10^{-308}$, and the smallest positive value greater than 1 is $1 + \\epsilon$, where $\\epsilon=2^{-52} \\approx 2.22 \\times 10^{-16}$ is known as _machine epsilon_ (in this case, for double-precision)."
   ]
  },
  {
   "cell_type": "markdown",
   "metadata": {
    "nbgrader": {
     "grade": false,
     "grade_id": "cell-3a5782fd960ec86c",
     "locked": true,
     "schema_version": 1,
     "solution": false
    }
   },
   "source": [
    "**Special values.** You might have noticed that the exponent is slightly asymmetric. Part of the reason is that the IEEE floating-point encoding can also represent several kinds of special values, such as infinities and an odd bird called \"not-a-number\" or `NaN`. This latter value, which you may have seen if you have used any standard statistical packages, can be used to encode certain kinds of floating-point exceptions that result when, for instance, you try to divide zero by zero.\n",
    "\n",
    "> If you are familiar with languages like C, C++, or Java, then IEEE double-precision format is the same as the `double` primitive type. The other common format is single-precision, which is `float` in those same languages."
   ]
  },
  {
   "cell_type": "markdown",
   "metadata": {
    "nbgrader": {
     "grade": false,
     "grade_id": "cell-1ca74d723cc75e05",
     "locked": true,
     "schema_version": 1,
     "solution": false
    }
   },
   "source": [
    "**Inspecting a floating-point number in Python.** Python provides support for looking at floating-point values directly! Given any floating-point variable, `v` (that is, `type(v) is float`), the method `v.hex()` returns a string representation of its encoding. It's easiest to see by example, so run the following code cell:"
   ]
  },
  {
   "cell_type": "code",
   "execution_count": 7,
   "metadata": {},
   "outputs": [
    {
     "name": "stdout",
     "output_type": "stream",
     "text": [
      "v = 0.0 ==> v.hex() == '0x0.0p+0'\n",
      "v = 1.0 ==> v.hex() == '0x1.0000000000000p+0'\n",
      "v = 16.0625 ==> v.hex() == '0x1.0100000000000p+4'\n",
      "v = -0.1 ==> v.hex() == '-0x1.999999999999ap-4'\n"
     ]
    }
   ],
   "source": [
    "def print_fp_hex(v):\n",
    "    assert type(v) is float\n",
    "    print(\"v = {} ==> v.hex() == '{}'\".format(v, v.hex()))\n",
    "    \n",
    "print_fp_hex(0.0)\n",
    "print_fp_hex(1.0)\n",
    "print_fp_hex(16.0625)\n",
    "print_fp_hex(-0.1)"
   ]
  },
  {
   "cell_type": "markdown",
   "metadata": {
    "nbgrader": {
     "grade": false,
     "grade_id": "cell-67b3150d20fe2afe",
     "locked": true,
     "schema_version": 1,
     "solution": false
    }
   },
   "source": [
    "Observe that the format has these properties:\n",
    "* If `v` is negative, the first character of the string is `'-'`.\n",
    "* The next two characters are always `'0x'`.\n",
    "* Following that, the next characters up to but excluding the character `'p'` is a fractional string of hexadecimal (base-16) digits. In other words, this substring corresponds to the significand encoded in base-16.\n",
    "* The `'p'` character separates the significand from the exponent. The exponent follows, as a signed integer (`'+'` or `'-'` prefix). Its implied base is two (2)---**not** base-16, even though the significand is.\n",
    "\n",
    "Thus, to convert this string back into the floating-point value, you could do the following:\n",
    "* Record the sign as a value, `v_sign`, which is either +1 or -1.\n",
    "* Convert the significand into a fractional value, `v_signif`, assuming base-16 digits.\n",
    "* Extract the exponent as a signed integer value, `v_exp`.\n",
    "* Compute the final value as `v_sign * v_signif * (2.0**v_exp)`.\n",
    "\n",
    "For example, here is how you can get 16.025 back from its `hex()` representation, `'0x1.0100000000000p+4'`:"
   ]
  },
  {
   "cell_type": "code",
   "execution_count": 8,
   "metadata": {},
   "outputs": [
    {
     "name": "stdout",
     "output_type": "stream",
     "text": [
      "16.0625\n"
     ]
    }
   ],
   "source": [
    "# Recall: v = 16.0625 ==> v.hex() == '0x1.0100000000000p+4'\n",
    "print((+1.0) * eval_strfrac('1.0100000000000', base=16) * (2**4))"
   ]
  },
  {
   "cell_type": "markdown",
   "metadata": {
    "nbgrader": {
     "grade": false,
     "grade_id": "cell-a9575a9387d06be3",
     "locked": true,
     "schema_version": 1,
     "solution": false
    }
   },
   "source": [
    "**Exercise 2** (5 points). Write a function, `fp_bin(v)`, that determines the IEEE-754 tuple representation of any double-precision floating-point value, `v`. That is, given the variable `v` such that `type(v) is float`, it should return a tuple with three components, `(s_sign, s_bin, v_exp)` such that\n",
    "\n",
    "* `s_sign` is a string representing the sign bit, encoded as either a `'+'` or `'-'` character;\n",
    "* `s_signif` is the significand, which should be a string of 54 bits having the form, `x.xxx...x`, where there are (at most) 53 `x` bits (0 or 1 values);\n",
    "* `v_exp` is the value of the exponent and should be an _integer_.\n",
    "\n",
    "For example:\n",
    "\n",
    "```python\n",
    "    v = -1280.03125\n",
    "    assert v.hex() == '-0x1.4002000000000p+10'\n",
    "    assert fp_bin(v) == ('-', '1.0100000000000010000000000000000000000000000000000000', 10)\n",
    "```\n",
    "\n",
    "> There are many ways to approach this problem. One we came up used an idea in this Stackoverflow post: https://stackoverflow.com/questions/1425493/convert-hex-to-binary"
   ]
  },
  {
   "cell_type": "code",
   "execution_count": 132,
   "metadata": {
    "nbgrader": {
     "grade": false,
     "grade_id": "fp_bin",
     "locked": false,
     "schema_version": 1,
     "solution": true
    }
   },
   "outputs": [],
   "source": [
    "def fp_bin(v):\n",
    "    assert type(v) is float\n",
    "#\n",
    "# YOUR CODE HERE\n",
    "    # first extract the sign\n",
    "    hex_val = v.hex()\n",
    "    s_sign = ['-' if x=='-' else '+' for x in hex_val[0]][0]\n",
    "    \n",
    "    # convert the hex value to base 16\n",
    "    s_signif = hex_val.split('p')[0].replace('.', '')\n",
    "    pre_s_bin = bin( int(s_signif, 16) ).split('b')[1]\n",
    "    if pre_s_bin == '0':\n",
    "        pre_s_bin ='00000000000000000000000000000000000000000000000000000'\n",
    "    s_bin = pre_s_bin[:1] + '.' + pre_s_bin[1:]\n",
    "    \n",
    "    # extract the exponent\n",
    "    v_exp = int(hex_val.split('p')[1])\n",
    "    \n",
    "    return s_sign, s_bin, v_exp\n"
   ]
  },
  {
   "cell_type": "code",
   "execution_count": 133,
   "metadata": {
    "nbgrader": {
     "grade": true,
     "grade_id": "fp_bin_test",
     "locked": true,
     "points": 4,
     "schema_version": 1,
     "solution": false
    }
   },
   "outputs": [
    {
     "name": "stdout",
     "output_type": "stream",
     "text": [
      "0.0 [0x0.0p+0] ==\n",
      "         ('+', '0.0000000000000000000000000000000000000000000000000000', 0)\n",
      "vs. you: ('+', '0.0000000000000000000000000000000000000000000000000000', 0)\n",
      "\n",
      "-1280.03125 [-0x1.4002000000000p+10] ==\n",
      "         ('-', '1.0100000000000010000000000000000000000000000000000000', 10)\n",
      "vs. you: ('-', '1.0100000000000010000000000000000000000000000000000000', 10)\n",
      "\n",
      "6.2831853072 [0x1.921fb544486e0p+2] ==\n",
      "         ('+', '1.1001001000011111101101010100010001001000011011100000', 2)\n",
      "vs. you: ('+', '1.1001001000011111101101010100010001001000011011100000', 2)\n",
      "\n",
      "-0.1 [-0x1.999999999999ap-4] ==\n",
      "         ('-', '1.1001100110011001100110011001100110011001100110011010', -4)\n",
      "vs. you: ('-', '1.1001100110011001100110011001100110011001100110011010', -4)\n",
      "\n",
      "1.0000000000000002 [0x1.0000000000001p+0] ==\n",
      "         ('+', '1.0000000000000000000000000000000000000000000000000001', 0)\n",
      "vs. you: ('+', '1.0000000000000000000000000000000000000000000000000001', 0)\n",
      "\n",
      "\n",
      "(Passed!)\n"
     ]
    }
   ],
   "source": [
    "# Test: `fp_bin_test`\n",
    "\n",
    "def check_fp_bin(v, x_true):\n",
    "    x_you = fp_bin(v)\n",
    "    print(\"\"\"{} [{}] ==\n",
    "         {}\n",
    "vs. you: {}\n",
    "\"\"\".format(v, v.hex(), x_true, x_you))\n",
    "    assert x_you == x_true, \"Results do not match!\"\n",
    "    \n",
    "check_fp_bin(0.0, ('+', '0.0000000000000000000000000000000000000000000000000000', 0))\n",
    "check_fp_bin(-1280.03125, ('-', '1.0100000000000010000000000000000000000000000000000000', 10))\n",
    "check_fp_bin(6.2831853072, ('+', '1.1001001000011111101101010100010001001000011011100000', 2))\n",
    "check_fp_bin(-0.1, ('-', '1.1001100110011001100110011001100110011001100110011010', -4))\n",
    "check_fp_bin(1.0 + (2**(-52)), ('+', '1.0000000000000000000000000000000000000000000000000001', 0))\n",
    "print(\"\\n(Passed!)\")"
   ]
  },
  {
   "cell_type": "markdown",
   "metadata": {},
   "source": [
    "**Exercise 3** (3 points). Suppose you are given a floating-point value in a base given by `base` and in the form of the tuple, `(sign, significand, exponent)`, where\n",
    "\n",
    "* `sign` is either the character '+' if the value is positive and '-' otherwise;\n",
    "* `significand` is a _string_ representation in base-`base`;\n",
    "* `exponent` is an _integer_ representing the exponent value.\n",
    "\n",
    "Complete the function,\n",
    "\n",
    "```python\n",
    "def eval_fp(sign, significand, exponent, base):\n",
    "    ...\n",
    "```\n",
    "\n",
    "so that it converts the tuple into a numerical value (of type `float`) and returns it."
   ]
  },
  {
   "cell_type": "code",
   "execution_count": 138,
   "metadata": {
    "nbgrader": {
     "grade": false,
     "grade_id": "eval_fp",
     "locked": false,
     "schema_version": 1,
     "solution": true
    }
   },
   "outputs": [],
   "source": [
    "def eval_fp(sign, significand, exponent, base=2):\n",
    "    assert sign in ['+', '-'], \"Sign bit must be '+' or '-', not '{}'.\".format(sign)\n",
    "    assert is_valid_strfrac(significand, base), \"Invalid significand for base-{}: '{}'\".format(base, significand)\n",
    "    assert type(exponent) is int\n",
    "\n",
    "#\n",
    "# YOUR CODE HERE\n",
    "    base_10_value = eval_strfrac(significand, base) * (base**exponent)\n",
    "    if sign == '-':\n",
    "        base_10_value = -1.0 * base_10_value\n",
    "        return base_10_value\n",
    "    else:\n",
    "        return base_10_value\n",
    "#eval_fp('+', '1.25000', -1, 10)"
   ]
  },
  {
   "cell_type": "code",
   "execution_count": 139,
   "metadata": {
    "nbgrader": {
     "grade": true,
     "grade_id": "eval_fp_test",
     "locked": true,
     "points": 2,
     "schema_version": 1,
     "solution": false
    }
   },
   "outputs": [
    {
     "name": "stdout",
     "output_type": "stream",
     "text": [
      "('+', ['1.25000']_{10}, -1) ~= 0.125: You computed 0.125, which differs by 0.0.\n",
      "('-', ['1.1100111000100011110110100000000110010000001100100101']_{2}, -11) ~= -0.0008814621834930299: You computed -0.0008814621834930299, which differs by 0.0.\n",
      "('-', ['1.1001001001010101110010011111010010011000000001001100']_{2}, 8) ~= -402.33511284552947: You computed -402.33511284552947, which differs by 0.0.\n",
      "('+', ['1.0010011010111101101010001101110000100011011011000101']_{2}, 13) ~= 9431.707451130622: You computed 9431.707451130622, which differs by 0.0.\n",
      "('-', ['1.1010100011101010110101010101111001000010110111010000']_{2}, 10) ~= -1699.669272961899: You computed -1699.669272961899, which differs by 0.0.\n",
      "('+', ['1.0011010001010110000011110110011001101010100110001101']_{2}, -8) ~= 0.004704836616307506: You computed 0.004704836616307506, which differs by 0.0.\n"
     ]
    }
   ],
   "source": [
    "# Test: `eval_fp_test`\n",
    "\n",
    "def check_eval_fp(sign, significand, exponent, v_true, base=2, tol=1e-7):\n",
    "    v_you = eval_fp(sign, significand, exponent, base)\n",
    "    delta_v = v_you - v_true\n",
    "    msg = \"('{}', ['{}']_{{{}}}, {}) ~= {}: You computed {}, which differs by {}.\".format(sign, significand, base, exponent, v_true, v_you, delta_v)\n",
    "    print(msg)\n",
    "    assert abs(delta_v) <= tol, \"Difference exceeds expected tolerance.\"\n",
    "    \n",
    "# Test 0: From the videos\n",
    "check_eval_fp('+', '1.25000', -1, 0.125, base=10)\n",
    "\n",
    "# Test 1: Random floating-point binary values\n",
    "def gen_rand_fp_bin():\n",
    "    from random import random, randint\n",
    "    v_sign = 1.0 if (random() < 0.5) else -1.0\n",
    "    v_mag = random() * (10**randint(-5, 5))\n",
    "    v = v_sign * v_mag\n",
    "    s_sign, s_bin, s_exp = fp_bin(v)\n",
    "    return v, s_sign, s_bin, s_exp\n",
    "\n",
    "for _ in range(5):\n",
    "    (v_true, sign, significand, exponent) = gen_rand_fp_bin()\n",
    "    check_eval_fp(sign, significand, exponent, v_true, base=2)"
   ]
  },
  {
   "cell_type": "markdown",
   "metadata": {
    "nbgrader": {
     "grade": false,
     "grade_id": "cell-920054b7b2795e3f",
     "locked": true,
     "schema_version": 1,
     "solution": false
    }
   },
   "source": [
    "**Exercise 4** (2 points). Suppose you are given two binary floating-point values, `u` and `v`, in the tuple form given above. That is, `u == (u_sign, u_signif, u_exp)` and `v == (v_sign, v_signif, v_exp)`, where the base for both `u` and `v` is two (2). Complete the function `add_fp_bin(u, v, signif_bits)`, so that it returns the sum of these two values with the resulting significand _truncated_ to `signif_bits` digits.\n",
    "\n",
    "> _Note 0_: Assume that `signif_bits` _includes_ the leading 1. For instance, suppose `signif_bits == 4`. Then the significand will have the form, `1.xxx`.\n",
    ">\n",
    "> _Note 1_: You may assume that `u_signif` and `v_signif` use `signif_bits` bits (including the leading `1`). Furthermore, you may assume each uses far fewer bits than the underlying native floating-point type (`float`) does, so that you can use native floating-point to compute intermediate values.\n",
    ">\n",
    "> _Hint_: The test cell above defines a function, `fp_bin(v)`, which you can use to convert a Python native floating-point value (i.e., `type(v) is float`) into a binary tuple representation."
   ]
  },
  {
   "cell_type": "code",
   "execution_count": 151,
   "metadata": {
    "nbgrader": {
     "grade": false,
     "grade_id": "add_fp_bin",
     "locked": false,
     "schema_version": 1,
     "solution": true
    }
   },
   "outputs": [
    {
     "data": {
      "text/plain": [
       "('+', '1.000010', 0)"
      ]
     },
     "execution_count": 151,
     "metadata": {},
     "output_type": "execute_result"
    }
   ],
   "source": [
    "def add_fp_bin(u, v, signif_bits):\n",
    "    u_sign, u_signif, u_exp = u\n",
    "    v_sign, v_signif, v_exp = v\n",
    "    \n",
    "    # You may assume normalized inputs at the given precision, `signif_bits`.\n",
    "    assert u_signif[:2] == '1.' and len(u_signif) == (signif_bits+1)\n",
    "    assert v_signif[:2] == '1.' and len(v_signif) == (signif_bits+1)\n",
    "    \n",
    "#\n",
    "# YOUR CODE HERE\n",
    "    if u_sign == '-':\n",
    "        u_base10 = -1.0 * eval_strfrac(u_signif, 2) * (2**u_exp)\n",
    "    else: \n",
    "        u_base10 = eval_strfrac(u_signif, 2) * (2**u_exp)\n",
    "    \n",
    "    if v_sign == '-':\n",
    "        v_base10 = -1.0 * eval_strfrac(v_signif, 2) * (2**v_exp)\n",
    "    else: \n",
    "        v_base10 = eval_strfrac(v_signif, 2) * (2**v_exp)\n",
    "        \n",
    "    uv_sum_base10 = u_base10 + v_base10\n",
    "    uv_sum_bin = bin(int(uv_sum_base10))\n",
    "    uv_sign, uv_bin, uv_exp = fp_bin(uv_sum_base10)\n",
    "    \n",
    "        \n",
    "    return uv_sign, uv_bin[0:signif_bits+1], uv_exp\n",
    "\n",
    "m = ('+', '1.010010', 0)\n",
    "n = ('-', '1.000000', -2)\n",
    "add_fp_bin(m, n, 7)"
   ]
  },
  {
   "cell_type": "code",
   "execution_count": 152,
   "metadata": {
    "nbgrader": {
     "grade": true,
     "grade_id": "add_fp_bin_test",
     "locked": true,
     "points": 2,
     "schema_version": 1,
     "solution": false
    }
   },
   "outputs": [
    {
     "name": "stdout",
     "output_type": "stream",
     "text": [
      "('+', '1.010010', 0) + ('-', '1.000000', -2) == ('+', '1.000010', 0): You produced ('+', '1.000010', 0).\n",
      "('+', '1.00000', 0) + ('+', '1.00000', -5) == ('+', '1.00001', 0): You produced ('+', '1.00001', 0).\n",
      "('+', '1.00000', 0) + ('-', '1.00000', -5) == ('+', '1.11110', -1): You produced ('+', '1.11110', -1).\n",
      "('+', '1.00000', 0) + ('+', '1.00000', -6) == ('+', '1.00000', 0): You produced ('+', '1.00000', 0).\n",
      "('+', '1.00000', 0) + ('-', '1.00000', -6) == ('+', '1.11111', -1): You produced ('+', '1.11111', -1).\n",
      "\n",
      "(Passed!)\n"
     ]
    }
   ],
   "source": [
    "# Test: `add_fp_bin_test`\n",
    "\n",
    "def check_add_fp_bin(u, v, signif_bits, w_true):\n",
    "    w_you = add_fp_bin(u, v, signif_bits)\n",
    "    msg = \"{} + {} == {}: You produced {}.\".format(u, v, w_true, w_you)\n",
    "    print(msg)\n",
    "    assert w_you == w_true, \"Results do not match.\"\n",
    "\n",
    "u = ('+', '1.010010', 0)\n",
    "v = ('-', '1.000000', -2)\n",
    "w_true = ('+', '1.000010', 0)\n",
    "check_add_fp_bin(u, v, 7, w_true)\n",
    "\n",
    "u = ('+', '1.00000', 0)\n",
    "v = ('+', '1.00000', -5)\n",
    "w_true = ('+', '1.00001', 0)\n",
    "check_add_fp_bin(u, v, 6, w_true)\n",
    "\n",
    "u = ('+', '1.00000', 0)\n",
    "v = ('-', '1.00000', -5)\n",
    "w_true = ('+', '1.11110', -1)\n",
    "check_add_fp_bin(u, v, 6, w_true)\n",
    "\n",
    "u = ('+', '1.00000', 0)\n",
    "v = ('+', '1.00000', -6)\n",
    "w_true = ('+', '1.00000', 0)\n",
    "check_add_fp_bin(u, v, 6, w_true)\n",
    "\n",
    "u = ('+', '1.00000', 0)\n",
    "v = ('-', '1.00000', -6)\n",
    "w_true = ('+', '1.11111', -1)\n",
    "check_add_fp_bin(u, v, 6, w_true)\n",
    "\n",
    "print(\"\\n(Passed!)\")"
   ]
  },
  {
   "cell_type": "markdown",
   "metadata": {
    "nbgrader": {
     "grade": false,
     "grade_id": "cell-3051088851ca001c",
     "locked": true,
     "schema_version": 1,
     "solution": false
    }
   },
   "source": [
    "**Done!** You've reached the end of `part0`. Be sure to save and submit your work. Once you are satisfied, move on to `part1`."
   ]
  },
  {
   "cell_type": "code",
   "execution_count": null,
   "metadata": {
    "collapsed": true
   },
   "outputs": [],
   "source": []
  }
 ],
 "metadata": {
  "celltoolbar": "Create Assignment",
  "kernelspec": {
   "display_name": "Python 3",
   "language": "python",
   "name": "python3"
  }
 },
 "nbformat": 4,
 "nbformat_minor": 1
}
