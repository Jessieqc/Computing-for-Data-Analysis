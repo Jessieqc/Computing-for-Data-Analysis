{
 "cells": [
  {
   "cell_type": "markdown",
   "metadata": {
    "nbgrader": {
     "grade": false,
     "grade_id": "cell-9673c77d0e8030f6",
     "locked": true,
     "schema_version": 1,
     "solution": false
    }
   },
   "source": [
    "# Clustering via $k$-means\n",
    "\n",
    "We previously studied the classification problem using the logistic regression algorithm. Since we had labels for each data point, we may regard the problem as one of _supervised learning_. However, in many applications, the data have no labels but we wish to discover possible labels (or other hidden patterns or structures). This problem is one of _unsupervised learning_. How can we approach such problems?\n",
    "\n",
    "**Clustering** is one class of unsupervised learning methods. In this lab, we'll consider the following form of the clustering task. Suppose you are given\n",
    "\n",
    "- a set of observations, $X \\equiv \\{\\hat{x}_i \\,|\\, 0 \\leq i < n\\}$, and\n",
    "- a target number of _clusters_, $k$.\n",
    "\n",
    "Your goal is to partition the points into $k$ subsets, $C_0,\\dots, C_{k-1} \\subseteq X$, which are\n",
    "\n",
    "- disjoint, i.e., $i \\neq j \\implies C_i \\cap C_j = \\emptyset$;\n",
    "- but also complete, i.e., $C_0 \\cup C_1 \\cup \\cdots \\cup C_{k-1} = X$.\n",
    "\n",
    "Intuitively, each cluster should reflect some \"sensible\" grouping. Thus, we need to specify what constitutes such a grouping."
   ]
  },
  {
   "cell_type": "markdown",
   "metadata": {
    "nbgrader": {
     "grade": false,
     "grade_id": "cell-541e8cffa94a67c8",
     "locked": true,
     "schema_version": 1,
     "solution": false
    }
   },
   "source": [
    "## Setup: Dataset\n",
    "\n",
    "The following cell will download the data you'll need for this lab. Run it now."
   ]
  },
  {
   "cell_type": "code",
   "execution_count": 1,
   "metadata": {
    "nbgrader": {
     "grade": false,
     "grade_id": "cell-e6424d64589d55cc",
     "locked": true,
     "schema_version": 1,
     "solution": false
    }
   },
   "outputs": [
    {
     "name": "stdout",
     "output_type": "stream",
     "text": [
      "'compute_d2_soln.npy' is ready!\n",
      "'assign_cluster_labels_soln.npy' is ready!\n",
      "'centers_initial_testing.npy' is ready!\n",
      "'centers_test3_soln.npy' is ready!\n",
      "'y_test3.npy' is ready!\n",
      "'logreg_points_train.csv' is ready!\n",
      "'assign_cluster_labels_S.npy' is ready!\n",
      "\n",
      "(All data appears to be ready.)\n"
     ]
    }
   ],
   "source": [
    "import requests\n",
    "import os\n",
    "import hashlib\n",
    "import io\n",
    "\n",
    "def on_vocareum():\n",
    "    return os.path.exists('.voc')\n",
    "\n",
    "def download(file, local_dir=\"\", url_base=None, checksum=None):\n",
    "    local_file = \"{}{}\".format(local_dir, file)\n",
    "    if not os.path.exists(local_file):\n",
    "        if url_base is None:\n",
    "            url_base = \"https://cse6040.gatech.edu/datasets/\"\n",
    "        url = \"{}{}\".format(url_base, file)\n",
    "        print(\"Downloading: {} ...\".format(url))\n",
    "        r = requests.get(url)\n",
    "        with open(local_file, 'wb') as f:\n",
    "            f.write(r.content)\n",
    "            \n",
    "    if checksum is not None:\n",
    "        with io.open(local_file, 'rb') as f:\n",
    "            body = f.read()\n",
    "            body_checksum = hashlib.md5(body).hexdigest()\n",
    "            assert body_checksum == checksum, \\\n",
    "                \"Downloaded file '{}' has incorrect checksum: '{}' instead of '{}'\".format(local_file,\n",
    "                                                                                           body_checksum,\n",
    "                                                                                           checksum)\n",
    "    print(\"'{}' is ready!\".format(file))\n",
    "    \n",
    "if on_vocareum():\n",
    "    URL_BASE = \"https://cse6040.gatech.edu/datasets/kmeans/\"\n",
    "    DATA_PATH = \"../resource/lib/publicdata/kmeans/\"\n",
    "else:\n",
    "    URL_BASE = \"https://github.com/cse6040/labs-fa17/raw/master/datasets/kmeans/\"\n",
    "    DATA_PATH = \"\"\n",
    "\n",
    "datasets = {'logreg_points_train.csv': '9d1e42f49a719da43113678732491c6d',\n",
    "            'centers_initial_testing.npy': '8884b4af540c1d5119e6e8980da43f04',\n",
    "            'compute_d2_soln.npy': '980fe348b6cba23cb81ddf703494fb4c',\n",
    "            'y_test3.npy': 'df322037ea9c523564a5018ea0a70fbf',\n",
    "            'centers_test3_soln.npy': '0c594b28e512a532a2ef4201535868b5',\n",
    "            'assign_cluster_labels_S.npy': '37e464f2b79dc1d59f5ec31eaefe4161',\n",
    "            'assign_cluster_labels_soln.npy': 'fc0e084ac000f30948946d097ed85ebc'}\n",
    "\n",
    "for filename, checksum in datasets.items():\n",
    "    download(filename, local_dir=DATA_PATH, url_base=URL_BASE, checksum=checksum)\n",
    "    \n",
    "print(\"\\n(All data appears to be ready.)\")"
   ]
  },
  {
   "cell_type": "markdown",
   "metadata": {
    "nbgrader": {
     "grade": false,
     "grade_id": "cell-cb3579f34a2e2239",
     "locked": true,
     "schema_version": 1,
     "solution": false
    }
   },
   "source": [
    "## The $k$-means clustering criterion\n",
    "\n",
    "Here is one way to measure the quality of a set of clusters. For each cluster $C$, consider its center $\\mu$ and measure the distance $\\|x-\\mu\\|$ of each observation $x \\in C$ to the center. Add these up for all points in the cluster; call this sum is the _within-cluster sum-of-squares (WCSS)_. Then, set as our goal to choose clusters that minimize the total WCSS over _all_ clusters.\n",
    "\n",
    "More formally, given a clustering $C = \\{C_0, C_1, \\ldots, C_{k-1}\\}$, let\n",
    "\n",
    "$$\n",
    "  \\mathrm{WCSS}(C) \\equiv \\sum_{i=0}^{k-1} \\sum_{x\\in C_i} \\|x - \\mu_i\\|^2,\n",
    "$$\n",
    "\n",
    "where $\\mu_i$ is the center of $C_i$. This center may be computed simply as the mean of all points in $C_i$, i.e.,\n",
    "\n",
    "$$\n",
    "  \\mu_i \\equiv \\dfrac{1}{|C_i|} \\sum_{x \\in C_i} x.\n",
    "$$\n",
    "\n",
    "Then, our objective is to find the \"best\" clustering, $C_*$, which is the one that has a minimum WCSS.\n",
    "\n",
    "$$\n",
    "  C_* = \\arg\\min_C \\mathrm{WCSS}(C).\n",
    "$$"
   ]
  },
  {
   "cell_type": "markdown",
   "metadata": {
    "nbgrader": {
     "grade": false,
     "grade_id": "cell-6b93655f7eed5747",
     "locked": true,
     "schema_version": 1,
     "solution": false
    }
   },
   "source": [
    "## The standard $k$-means algorithm (Lloyd's algorithm)\n",
    "\n",
    "Finding the global optimum is [NP-hard](https://en.wikipedia.org/wiki/NP-hardness), which is computer science mumbo jumbo for \"we don't know whether there is an algorithm to calculate the exact answer in fewer steps than exponential in the size of the input.\" Nevertheless, there is an iterative method, Lloyd’s algorithm, that can quickly converge to a _local_ (as opposed to _global_) minimum. The procedure alternates between two operations: _assignment_ and _update_.\n",
    "\n",
    "**Step 1: Assignment.** Given a fixed set of $k$ centers, assign each point to the nearest center:\n",
    "\n",
    "$$\n",
    "  C_i = \\{\\hat{x}: \\| \\hat{x} - \\mu_i \\| \\le \\| \\hat{x} - \\mu_j \\|, 1 \\le j \\le k \\}.\n",
    "$$\n",
    "\n",
    "**Step 2: Update.** Recompute the $k$ centers (\"centroids\") by averaging all the data points belonging to each cluster, i.e., taking their mean:\n",
    "\n",
    "$$\n",
    "  \\mu_i = \\dfrac{1}{|C_i|} \\sum_{\\hat{x} \\in C_i} \\hat{x}\n",
    "$$\n",
    "\n",
    "![Illustration of $k$-means](https://github.com/cse6040/labs-fa17/raw/master/lab14-kmeans/base21-small-transparent.png)\n",
    "\n",
    "> Figure adapted from: http://stanford.edu/~cpiech/cs221/img/kmeansViz.png"
   ]
  },
  {
   "cell_type": "markdown",
   "metadata": {
    "nbgrader": {
     "grade": false,
     "grade_id": "cell-13840d179f2b5013",
     "locked": true,
     "schema_version": 1,
     "solution": false
    }
   },
   "source": [
    "In the code that follows, it will be convenient to use our usual \"data matrix\" convention, that is, each row of a data matrix $X$ is one of $m$ observations and each column (coordinate) is one of $d$ predictors. However, we will _not_ need a dummy column of ones since we are not fitting a function.\n",
    "\n",
    "$$\n",
    "  X\n",
    "  \\equiv \\left(\\begin{array}{c} \\hat{x}_0^T \\\\ \\vdots \\\\ \\hat{x}_{m}^T \\end{array}\\right)\n",
    "  = \\left(\\begin{array}{ccc} x_0 & \\cdots & x_{d-1} \\end{array}\\right).\n",
    "$$"
   ]
  },
  {
   "cell_type": "code",
   "execution_count": 2,
   "metadata": {
    "collapsed": true
   },
   "outputs": [],
   "source": [
    "import numpy as np\n",
    "import pandas as pd\n",
    "import seaborn as sns\n",
    "import matplotlib.pyplot as plt\n",
    "\n",
    "%matplotlib inline\n",
    "\n",
    "import matplotlib as mpl\n",
    "mpl.rc(\"savefig\", dpi=100) # Adjust for higher-resolution figures"
   ]
  },
  {
   "cell_type": "markdown",
   "metadata": {
    "nbgrader": {
     "grade": false,
     "grade_id": "cell-15cf3d2b6fe2edc3",
     "locked": true,
     "schema_version": 1,
     "solution": false
    }
   },
   "source": [
    "We will use the following data set which some of you may have seen previously."
   ]
  },
  {
   "cell_type": "code",
   "execution_count": 3,
   "metadata": {
    "nbgrader": {
     "grade": false,
     "grade_id": "cell-8e381f31d5d76d62",
     "locked": true,
     "schema_version": 1,
     "solution": false
    }
   },
   "outputs": [
    {
     "data": {
      "text/html": [
       "<div>\n",
       "<style>\n",
       "    .dataframe thead tr:only-child th {\n",
       "        text-align: right;\n",
       "    }\n",
       "\n",
       "    .dataframe thead th {\n",
       "        text-align: left;\n",
       "    }\n",
       "\n",
       "    .dataframe tbody tr th {\n",
       "        vertical-align: top;\n",
       "    }\n",
       "</style>\n",
       "<table border=\"1\" class=\"dataframe\">\n",
       "  <thead>\n",
       "    <tr style=\"text-align: right;\">\n",
       "      <th></th>\n",
       "      <th>x_1</th>\n",
       "      <th>x_2</th>\n",
       "      <th>label</th>\n",
       "    </tr>\n",
       "  </thead>\n",
       "  <tbody>\n",
       "    <tr>\n",
       "      <th>0</th>\n",
       "      <td>-0.234443</td>\n",
       "      <td>-1.075960</td>\n",
       "      <td>1</td>\n",
       "    </tr>\n",
       "    <tr>\n",
       "      <th>1</th>\n",
       "      <td>0.730359</td>\n",
       "      <td>-0.918093</td>\n",
       "      <td>0</td>\n",
       "    </tr>\n",
       "    <tr>\n",
       "      <th>2</th>\n",
       "      <td>1.432270</td>\n",
       "      <td>-0.439449</td>\n",
       "      <td>0</td>\n",
       "    </tr>\n",
       "    <tr>\n",
       "      <th>3</th>\n",
       "      <td>0.026733</td>\n",
       "      <td>1.050300</td>\n",
       "      <td>0</td>\n",
       "    </tr>\n",
       "    <tr>\n",
       "      <th>4</th>\n",
       "      <td>1.879650</td>\n",
       "      <td>0.207743</td>\n",
       "      <td>0</td>\n",
       "    </tr>\n",
       "  </tbody>\n",
       "</table>\n",
       "</div>"
      ],
      "text/plain": [
       "        x_1       x_2  label\n",
       "0 -0.234443 -1.075960      1\n",
       "1  0.730359 -0.918093      0\n",
       "2  1.432270 -0.439449      0\n",
       "3  0.026733  1.050300      0\n",
       "4  1.879650  0.207743      0"
      ]
     },
     "execution_count": 3,
     "metadata": {},
     "output_type": "execute_result"
    }
   ],
   "source": [
    "df = pd.read_csv('{}logreg_points_train.csv'.format(DATA_PATH))\n",
    "df.head()"
   ]
  },
  {
   "cell_type": "code",
   "execution_count": 4,
   "metadata": {
    "collapsed": true,
    "nbgrader": {
     "grade": false,
     "grade_id": "cell-c117db7825e08d1e",
     "locked": true,
     "schema_version": 1,
     "solution": false
    }
   },
   "outputs": [],
   "source": [
    "# Helper functions from Logistic Regression Lesson\n",
    "def make_scatter_plot(df, x=\"x_1\", y=\"x_2\", hue=\"label\",\n",
    "                      palette={0: \"red\", 1: \"olive\"},\n",
    "                      size=5,\n",
    "                      centers=None):\n",
    "    sns.lmplot(x=x, y=y, hue=hue, data=df, palette=palette,\n",
    "               fit_reg=False)\n",
    "    if centers is not None:\n",
    "        plt.scatter(centers[:,0], centers[:,1],\n",
    "                    marker=u'*', s=500,\n",
    "                    c=[palette[0], palette[1]])\n",
    "    \n",
    "def mark_matches(a, b, exact=False):\n",
    "    \"\"\"\n",
    "    Given two Numpy arrays of {0, 1} labels, returns a new boolean\n",
    "    array indicating at which locations the input arrays have the\n",
    "    same label (i.e., the corresponding entry is True).\n",
    "    \n",
    "    This function can consider \"inexact\" matches. That is, if `exact`\n",
    "    is False, then the function will assume the {0, 1} labels may be\n",
    "    regarded as the same up to a swapping of the labels. This feature\n",
    "    allows\n",
    "    \n",
    "      a == [0, 0, 1, 1, 0, 1, 1]\n",
    "      b == [1, 1, 0, 0, 1, 0, 0]\n",
    "      \n",
    "    to be regarded as equal. (That is, use `exact=False` when you\n",
    "    only care about \"relative\" labeling.)\n",
    "    \"\"\"\n",
    "    assert a.shape == b.shape\n",
    "    a_int = a.astype(dtype=int)\n",
    "    b_int = b.astype(dtype=int)\n",
    "    all_axes = tuple(range(len(a.shape)))\n",
    "    assert ((a_int == 0) | (a_int == 1)).all()\n",
    "    assert ((b_int == 0) | (b_int == 1)).all()\n",
    "    \n",
    "    exact_matches = (a_int == b_int)\n",
    "    if exact:\n",
    "        return exact_matches\n",
    "\n",
    "    assert exact == False\n",
    "    num_exact_matches = np.sum(exact_matches)\n",
    "    if (2*num_exact_matches) >= np.prod (a.shape):\n",
    "        return exact_matches\n",
    "    return exact_matches == False # Invert\n",
    "    \n",
    "def count_matches(a, b, exact=False):\n",
    "    \"\"\"\n",
    "    Given two sets of {0, 1} labels, returns the number of mismatches.\n",
    "    \n",
    "    This function can consider \"inexact\" matches. That is, if `exact`\n",
    "    is False, then the function will assume the {0, 1} labels may be\n",
    "    regarded as similar up to a swapping of the labels. This feature\n",
    "    allows\n",
    "    \n",
    "      a == [0, 0, 1, 1, 0, 1, 1]\n",
    "      b == [1, 1, 0, 0, 1, 0, 0]\n",
    "      \n",
    "    to be regarded as equal. (That is, use `exact=False` when you\n",
    "    only care about \"relative\" labeling.)\n",
    "    \"\"\"\n",
    "    matches = mark_matches(a, b, exact=exact)\n",
    "    return np.sum(matches)"
   ]
  },
  {
   "cell_type": "code",
   "execution_count": 5,
   "metadata": {
    "nbgrader": {
     "grade": false,
     "grade_id": "cell-927e7e2eb5cd4698",
     "locked": true,
     "schema_version": 1,
     "solution": false
    }
   },
   "outputs": [
    {
     "data": {
      "image/png": "[encoded data removed]",
      "text/plain": [
       "<matplotlib.figure.Figure at 0x7f2341cd4f98>"
      ]
     },
     "metadata": {},
     "output_type": "display_data"
    }
   ],
   "source": [
    "make_scatter_plot(df)"
   ]
  },
  {
   "cell_type": "markdown",
   "metadata": {
    "nbgrader": {
     "grade": false,
     "grade_id": "cell-87c29d5fe9b0d272",
     "locked": true,
     "schema_version": 1,
     "solution": false
    }
   },
   "source": [
    "Let's extract the data points as a data matrix, `points`, and the labels as a vector, `labels`. Note that the k-means algorithm you will implement should **not** reference `labels` -- that's the solution we will try to predict given only the point coordinates (`points`) and target number of clusters (`k`)."
   ]
  },
  {
   "cell_type": "code",
   "execution_count": 6,
   "metadata": {
    "collapsed": true,
    "nbgrader": {
     "grade": false,
     "grade_id": "cell-c1fbf82510c1ed62",
     "locked": true,
     "schema_version": 1,
     "solution": false
    }
   },
   "outputs": [],
   "source": [
    "points = df.as_matrix(['x_1', 'x_2'])\n",
    "labels = df['label'].as_matrix()\n",
    "n, d = points.shape\n",
    "k = 2"
   ]
  },
  {
   "cell_type": "markdown",
   "metadata": {
    "nbgrader": {
     "grade": false,
     "grade_id": "cell-eb36c96dcc01b847",
     "locked": true,
     "schema_version": 1,
     "solution": false
    }
   },
   "source": [
    "Note that the labels should _not_ be used in the $k$-means algorithm. We use them here only as ground truth for later verification."
   ]
  },
  {
   "cell_type": "markdown",
   "metadata": {
    "nbgrader": {
     "grade": false,
     "grade_id": "cell-7dee06f2303f7153",
     "locked": true,
     "schema_version": 1,
     "solution": false
    }
   },
   "source": [
    "### How to start? Initializing the $k$ centers\n",
    "\n",
    "To start the algorithm, you need an initial guess. Let's randomly choose $k$ observations from the data.\n",
    "\n",
    "**Exercise 1** (2 points). Complete the following function, `init_centers(X, k)`, so that it randomly selects $k$ of the given observations to serve as centers. It should return a Numpy array of size `k`-by-`d`, where `d` is the number of columns of `X`."
   ]
  },
  {
   "cell_type": "code",
   "execution_count": 7,
   "metadata": {
    "collapsed": true,
    "nbgrader": {
     "grade": false,
     "grade_id": "init_centers",
     "locked": false,
     "schema_version": 1,
     "solution": true
    }
   },
   "outputs": [],
   "source": [
    "def init_centers(X, k):\n",
    "    \"\"\"\n",
    "    Randomly samples k observations from X as centers.\n",
    "    Returns these centers as a (k x d) numpy array.\n",
    "    \"\"\"\n",
    "    #\n",
    "    # YOUR CODE HERE\n",
    "    centers_matrix = X[np.random.choice(len(X), k, replace=False)]\n",
    "\n",
    "    return centers_matrix\n"
   ]
  },
  {
   "cell_type": "code",
   "execution_count": 8,
   "metadata": {
    "nbgrader": {
     "grade": true,
     "grade_id": "init_centers_test",
     "locked": true,
     "points": 2,
     "schema_version": 1,
     "solution": false
    }
   },
   "outputs": [
    {
     "name": "stdout",
     "output_type": "stream",
     "text": [
      "Initial centers:\n",
      " [[-0.452083 -1.27735 ]\n",
      " [-0.810086 -0.687011]]\n",
      "\n",
      "(Passed!)\n"
     ]
    }
   ],
   "source": [
    "# Test cell: `init_centers_test`\n",
    "\n",
    "centers_initial = init_centers(points, k)\n",
    "print(\"Initial centers:\\n\", centers_initial)\n",
    "\n",
    "assert type(centers_initial) is np.ndarray, \"Your function should return a Numpy array instead of a {}\".format(type(centers_initial))\n",
    "assert centers_initial.shape == (k, d), \"Returned centers do not have the right shape ({} x {})\".format(k, d)\n",
    "assert (sum(centers_initial[0, :] == points) == [1, 1]).all(), \"The centers must come from the input.\"\n",
    "assert (sum(centers_initial[1, :] == points) == [1, 1]).all(), \"The centers must come from the input.\"\n",
    "\n",
    "print(\"\\n(Passed!)\")"
   ]
  },
  {
   "cell_type": "markdown",
   "metadata": {
    "nbgrader": {
     "grade": false,
     "grade_id": "cell-d57fa9d79078b2df",
     "locked": true,
     "schema_version": 1,
     "solution": false
    }
   },
   "source": [
    "### Computing the distances\n",
    "\n",
    "**Exercise 2** (3 points). Implement a function that computes a distance matrix, $S = (s_{ij})$ such that $s_{ij} = d_{ij}^2$ is the _squared_ distance from point $\\hat{x}_i$ to center $\\mu_j$. It should return a Numpy matrix `S[:m, :k]`."
   ]
  },
  {
   "cell_type": "code",
   "execution_count": 9,
   "metadata": {
    "collapsed": true,
    "nbgrader": {
     "grade": false,
     "grade_id": "compute_d2",
     "locked": false,
     "schema_version": 1,
     "solution": true
    }
   },
   "outputs": [],
   "source": [
    "def compute_d2(X, centers):\n",
    "    m = len(X)\n",
    "    k = len(centers)\n",
    "    \n",
    "    S = np.empty((m, k))   \n",
    "    #\n",
    "    # YOUR CODE HERE\n",
    "    \n",
    "    # using the distance formula \n",
    "    for n in range(k):\n",
    "        mu = centers[n:n+1, :]\n",
    "        sq_diff = (X - mu)**2\n",
    "        S[:, n:n+1] = np.sqrt(sq_diff[:,:1] + sq_diff[:, 1:2])**2\n",
    "    \n",
    "    # Answer provided\n",
    "#     for i in range(m):\n",
    "#         S[i,:] = np.linalg.norm(X[i,:] - centers, ord=2, axis=1)\n",
    "\n",
    "    return S"
   ]
  },
  {
   "cell_type": "code",
   "execution_count": 10,
   "metadata": {
    "nbgrader": {
     "grade": true,
     "grade_id": "compute_d2_test",
     "locked": true,
     "points": 3,
     "schema_version": 1,
     "solution": false
    }
   },
   "outputs": [
    {
     "name": "stdout",
     "output_type": "stream",
     "text": [
      "\n",
      "(Passed!)\n"
     ]
    }
   ],
   "source": [
    "# Test cell: `compute_d2_test`\n",
    "\n",
    "centers_initial_testing = np.load(\"{}centers_initial_testing.npy\".format(DATA_PATH))\n",
    "compute_d2_soln = np.load(\"{}compute_d2_soln.npy\".format(DATA_PATH))\n",
    "\n",
    "S = compute_d2 (points, centers_initial_testing)\n",
    "assert (np.linalg.norm (S - compute_d2_soln, axis=1) <= (20.0 * np.finfo(float).eps)).all ()\n",
    "\n",
    "print(\"\\n(Passed!)\")"
   ]
  },
  {
   "cell_type": "markdown",
   "metadata": {
    "nbgrader": {
     "grade": false,
     "grade_id": "cell-5b0f35e46de95e6c",
     "locked": true,
     "schema_version": 1,
     "solution": false
    }
   },
   "source": [
    "**Exercise 3** (2 points). Write a function that uses the (squared) distance matrix to assign a \"cluster label\" to each point.\n",
    "\n",
    "That is, consider the $m \\times k$ squared distance matrix $S$. For each point $i$, if $s_{i,j}$ is the minimum squared distance for point $i$, then the index $j$ is $i$'s cluster label. In other words, your function should return a (column) vector $y$ of length $m$ such that\n",
    "\n",
    "$$\n",
    "  y_i = \\underset{j \\in \\{0, \\ldots, k-1\\}}{\\operatorname{argmin}} s_{ij}.\n",
    "$$\n",
    "\n",
    "> Hint: Judicious use of Numpy's [`argmin()`](https://docs.scipy.org/doc/numpy/reference/generated/numpy.argmin.html) makes for a nice one-line solution."
   ]
  },
  {
   "cell_type": "code",
   "execution_count": 11,
   "metadata": {
    "nbgrader": {
     "grade": false,
     "grade_id": "assign_cluster_labels",
     "locked": false,
     "schema_version": 1,
     "solution": true
    }
   },
   "outputs": [
    {
     "name": "stdout",
     "output_type": "stream",
     "text": [
      "You found: [1 0 1]\n"
     ]
    }
   ],
   "source": [
    "def assign_cluster_labels(S):\n",
    "    #\n",
    "    # YOUR CODE HERE\n",
    "    labels = np.argmin(S, axis=1)\n",
    "    return np.array(labels)\n",
    "\n",
    "# Cluster labels:     0    1\n",
    "S_test1 = np.array([[0.3, 0.2],  # --> cluster 1\n",
    "                    [0.1, 0.5],  # --> cluster 0\n",
    "                    [0.4, 0.2]]) # --> cluster 1\n",
    "y_test1 = assign_cluster_labels(S_test1)\n",
    "print(\"You found:\", y_test1)\n",
    "\n",
    "assert (y_test1 == np.array([1, 0, 1])).all()"
   ]
  },
  {
   "cell_type": "code",
   "execution_count": 12,
   "metadata": {
    "nbgrader": {
     "grade": true,
     "grade_id": "assign_cluster_labels_test",
     "locked": true,
     "points": 2,
     "schema_version": 1,
     "solution": false
    }
   },
   "outputs": [
    {
     "name": "stdout",
     "output_type": "stream",
     "text": [
      "\n",
      "(Passed!)\n"
     ]
    }
   ],
   "source": [
    "# Test cell: `assign_cluster_labels_test`\n",
    "\n",
    "S_test2 = np.load(\"{}assign_cluster_labels_S.npy\".format(DATA_PATH))\n",
    "y_test2_soln = np.load(\"{}assign_cluster_labels_soln.npy\".format(DATA_PATH))\n",
    "y_test2 = assign_cluster_labels(S_test2)\n",
    "assert (y_test2 == y_test2_soln).all()\n",
    "\n",
    "print(\"\\n(Passed!)\")"
   ]
  },
  {
   "cell_type": "markdown",
   "metadata": {
    "nbgrader": {
     "grade": false,
     "grade_id": "cell-e1bb590c5d3080c8",
     "locked": true,
     "schema_version": 1,
     "solution": false
    }
   },
   "source": [
    "**Exercise 4** (2 points). Given a clustering (i.e., a set of points and assignment of labels), compute the center of each cluster."
   ]
  },
  {
   "cell_type": "code",
   "execution_count": 13,
   "metadata": {
    "collapsed": true,
    "nbgrader": {
     "grade": false,
     "grade_id": "update_centers",
     "locked": false,
     "schema_version": 1,
     "solution": true
    }
   },
   "outputs": [],
   "source": [
    "def update_centers(X, y):\n",
    "    # X[:m, :d] == m points, each of dimension d\n",
    "    # y[:m] == cluster labels\n",
    "    m, d = X.shape\n",
    "    k = int(max(y)) + 1\n",
    "    assert m == len(y)\n",
    "    assert (min(y) >= 0)\n",
    "    \n",
    "    centers = np.empty((k, d))\n",
    "    for j in range(k):\n",
    "        # Compute the new center of cluster j,\n",
    "        # i.e., centers[j, :d].\n",
    "        #\n",
    "        # YOUR CODE HERE\n",
    "        centers[j,:] = np.mean(X[y==j, :], axis=0)\n",
    "        \n",
    "    return centers"
   ]
  },
  {
   "cell_type": "code",
   "execution_count": 14,
   "metadata": {
    "nbgrader": {
     "grade": true,
     "grade_id": "update_centers_test",
     "locked": true,
     "points": 2,
     "schema_version": 1,
     "solution": false
    }
   },
   "outputs": [
    {
     "name": "stdout",
     "output_type": "stream",
     "text": [
      "\n",
      "(Passed!)\n"
     ]
    }
   ],
   "source": [
    "# Test cell: `update_centers_test`\n",
    "\n",
    "y_test3 = np.load(\"{}y_test3.npy\".format(DATA_PATH))\n",
    "centers_test3_soln = np.load(\"{}centers_test3_soln.npy\".format(DATA_PATH))\n",
    "centers_test3 = update_centers(points, y_test3)\n",
    "\n",
    "delta_test3 = np.abs(centers_test3 - centers_test3_soln)\n",
    "assert (delta_test3 <= 2.0*len(centers_test3_soln)*np.finfo(float).eps).all()\n",
    "\n",
    "print(\"\\n(Passed!)\")"
   ]
  },
  {
   "cell_type": "markdown",
   "metadata": {
    "nbgrader": {
     "grade": false,
     "grade_id": "cell-58f292d0402301a4",
     "locked": true,
     "schema_version": 1,
     "solution": false
    }
   },
   "source": [
    "**Exercise 5** (2 points). Given the squared distances, return the within-cluster sum of squares.\n",
    "\n",
    "In particular, your function should have the signature,\n",
    "\n",
    "```python\n",
    "    def WCSS(S):\n",
    "        ...\n",
    "```\n",
    "\n",
    "where `S` is an array of distances as might be computed from Exercise 2.\n",
    "\n",
    "For example, suppose `S` is defined as follows:\n",
    "\n",
    "```python\n",
    "    S = np.array([[0.3, 0.2],\n",
    "                  [0.1, 0.5],\n",
    "                  [0.4, 0.2]])\n",
    "```\n",
    "\n",
    "Then `WCSS(S) == 0.2 + 0.1 + 0.2 == 0.5.`\n",
    "\n",
    "> _Hint_: See [numpy.amin](https://docs.scipy.org/doc/numpy/reference/generated/numpy.amin.html#numpy.amin)."
   ]
  },
  {
   "cell_type": "code",
   "execution_count": 15,
   "metadata": {
    "nbgrader": {
     "grade": false,
     "grade_id": "WCSS",
     "locked": false,
     "schema_version": 1,
     "solution": true
    }
   },
   "outputs": [
    {
     "name": "stdout",
     "output_type": "stream",
     "text": [
      "S ==\n",
      " [[ 0.3  0.2]\n",
      " [ 0.1  0.5]\n",
      " [ 0.4  0.2]]\n",
      "\n",
      "WCSS(S) == 0.5\n"
     ]
    }
   ],
   "source": [
    "def WCSS(S):\n",
    "    #\n",
    "    # YOUR CODE HERE\n",
    "    return sum(np.amin(S, axis=1))\n",
    "    \n",
    "# Quick test:\n",
    "print(\"S ==\\n\", S_test1)\n",
    "WCSS_test1 = WCSS(S_test1)\n",
    "print(\"\\nWCSS(S) ==\", WCSS(S_test1))"
   ]
  },
  {
   "cell_type": "code",
   "execution_count": 16,
   "metadata": {
    "nbgrader": {
     "grade": true,
     "grade_id": "WCSS_test",
     "locked": true,
     "points": 2,
     "schema_version": 1,
     "solution": false
    }
   },
   "outputs": [
    {
     "name": "stdout",
     "output_type": "stream",
     "text": [
      "\n",
      "(Passed!)\n"
     ]
    }
   ],
   "source": [
    "# Test cell: `WCSS_test`\n",
    "\n",
    "assert np.abs(WCSS_test1 - 0.5) <= 3.0*np.finfo(float).eps, \"WCSS(S_test1) should be close to 0.5, not {}\".format(WCSS_test1)\n",
    "print(\"\\n(Passed!)\")"
   ]
  },
  {
   "cell_type": "markdown",
   "metadata": {
    "nbgrader": {
     "grade": false,
     "grade_id": "cell-ff3d3e7eb16d77c0",
     "locked": true,
     "schema_version": 1,
     "solution": false
    }
   },
   "source": [
    "Lastly, here is a function to check whether the centers have \"moved,\" given two instances of the center values. It accounts for the fact that the order of centers may have changed."
   ]
  },
  {
   "cell_type": "code",
   "execution_count": 17,
   "metadata": {
    "collapsed": true,
    "nbgrader": {
     "grade": false,
     "grade_id": "cell-84eaf8eb026c9273",
     "locked": true,
     "schema_version": 1,
     "solution": false
    }
   },
   "outputs": [],
   "source": [
    "def has_converged(old_centers, centers):\n",
    "    return set([tuple(x) for x in old_centers]) == set([tuple(x) for x in centers])"
   ]
  },
  {
   "cell_type": "markdown",
   "metadata": {
    "nbgrader": {
     "grade": false,
     "grade_id": "cell-5cd038fe20813ba7",
     "locked": true,
     "schema_version": 1,
     "solution": false
    }
   },
   "source": [
    "**Exercise 6** (3 points). Put all of the preceding building blocks together to implement Lloyd's $k$-means algorithm."
   ]
  },
  {
   "cell_type": "code",
   "execution_count": 24,
   "metadata": {
    "nbgrader": {
     "grade": false,
     "grade_id": "cell-7d55bc2221f76601",
     "locked": false,
     "schema_version": 1,
     "solution": true
    }
   },
   "outputs": [
    {
     "name": "stdout",
     "output_type": "stream",
     "text": [
      "iteration 1 WCSS =  549.917553549\n",
      "iteration 2 WCSS =  339.800663303\n",
      "iteration 3 WCSS =  300.330112922\n",
      "iteration 4 WCSS =  289.807007773\n",
      "iteration 5 WCSS =  286.074559106\n",
      "iteration 6 WCSS =  284.190770558\n",
      "iteration 7 WCSS =  283.227322499\n",
      "iteration 8 WCSS =  282.456491303\n",
      "iteration 9 WCSS =  281.848382253\n",
      "iteration 10 WCSS =  281.572420827\n",
      "iteration 11 WCSS =  281.531562799\n"
     ]
    }
   ],
   "source": [
    "def kmeans(X, k,\n",
    "           starting_centers=None,\n",
    "           max_steps=np.inf):\n",
    "    if starting_centers is None:\n",
    "        centers = init_centers(X, k)\n",
    "    else:\n",
    "        centers = starting_centers\n",
    "        \n",
    "    converged = False\n",
    "    labels = np.zeros(len(X))\n",
    "    i = 1\n",
    "    while (not converged) and (i <= max_steps):\n",
    "        old_centers = centers\n",
    "        #\n",
    "        # YOUR CODE HERE\n",
    "        S = compute_d2(X, old_centers)\n",
    "        labels[:] = assign_cluster_labels(S)  # check\n",
    "        centers = update_centers(X, labels)\n",
    "        converged = has_converged(old_centers, centers)\n",
    "        \n",
    "        print (\"iteration\", i, \"WCSS = \", WCSS (S))\n",
    "        i += 1\n",
    "    return labels\n",
    "\n",
    "clustering = kmeans(points, k, starting_centers=points[[0, 187], :])"
   ]
  },
  {
   "cell_type": "markdown",
   "metadata": {},
   "source": [
    "Let's visualize the results."
   ]
  },
  {
   "cell_type": "code",
   "execution_count": 25,
   "metadata": {
    "nbgrader": {
     "grade": true,
     "grade_id": "kmeans_test",
     "locked": true,
     "points": 3,
     "schema_version": 1,
     "solution": false
    }
   },
   "outputs": [
    {
     "name": "stdout",
     "output_type": "stream",
     "text": [
      "329 matches out of 375 possible (~ 87.7%)\n"
     ]
    },
    {
     "data": {
      "image/png": "[encoded data removed]",
      "text/plain": [
       "<matplotlib.figure.Figure at 0x7f233ec36e80>"
      ]
     },
     "metadata": {},
     "output_type": "display_data"
    }
   ],
   "source": [
    "# Test cell: `kmeans_test`\n",
    "\n",
    "df['clustering'] = clustering\n",
    "centers = update_centers(points, clustering)\n",
    "make_scatter_plot(df, hue='clustering', centers=centers)\n",
    "\n",
    "n_matches = count_matches(df['label'], df['clustering'])\n",
    "print(n_matches,\n",
    "      \"matches out of\",\n",
    "      len(df), \"possible\",\n",
    "      \"(~ {:.1f}%)\".format(100.0 * n_matches / len(df)))\n",
    "\n",
    "assert n_matches >= 320"
   ]
  },
  {
   "cell_type": "markdown",
   "metadata": {},
   "source": [
    "## Built-in $k$-means\n",
    "\n",
    "The preceding exercises walked you through how to implement $k$-means, but as you might have imagined, there are existing implementations as well! The following shows you how to use Scipy's implementation, which should yield similar results. If you are asked to use $k$-means in a future lab (or exam!), you can use this one."
   ]
  },
  {
   "cell_type": "code",
   "execution_count": 26,
   "metadata": {
    "collapsed": true
   },
   "outputs": [],
   "source": [
    "from scipy.cluster import vq"
   ]
  },
  {
   "cell_type": "code",
   "execution_count": 27,
   "metadata": {},
   "outputs": [
    {
     "name": "stdout",
     "output_type": "stream",
     "text": [
      "Centers:\n",
      " [[-0.37515745 -1.17236522]\n",
      " [ 0.66238486  0.47088498]]\n",
      "\n",
      "Compare with your method:\n",
      " [[-0.37382602 -1.18565619]\n",
      " [ 0.64980076  0.4667703 ]] \n",
      "\n",
      "Distortion (WCSS): 0.749603689978\n",
      "329 matches out of 375 possible (~ 87.7%)\n"
     ]
    },
    {
     "data": {
      "image/png": "[encoded data removed]",
      "text/plain": [
       "<matplotlib.figure.Figure at 0x7f233ea13b00>"
      ]
     },
     "metadata": {},
     "output_type": "display_data"
    }
   ],
   "source": [
    "# `distortion` below is the similar to WCSS.\n",
    "# It is called distortion in the Scipy documentation\n",
    "# since clustering can be used in compression.\n",
    "centers_vq, distortion_vq = vq.kmeans(points, k)\n",
    "\n",
    "# vq return the clustering (assignment of group for each point)\n",
    "# based on the centers obtained by the kmeans function.\n",
    "# _ here means ignore the second return value\n",
    "clustering_vq, _ = vq.vq(points, centers_vq)\n",
    "\n",
    "print(\"Centers:\\n\", centers_vq)\n",
    "print(\"\\nCompare with your method:\\n\", centers, \"\\n\")\n",
    "print(\"Distortion (WCSS):\", distortion_vq)\n",
    "\n",
    "df['clustering_vq'] = clustering_vq\n",
    "make_scatter_plot(df, hue='clustering_vq', centers=centers_vq)\n",
    "\n",
    "n_matches_vq = count_matches(df['label'], df['clustering_vq'])\n",
    "print(n_matches_vq,\n",
    "      \"matches out of\",\n",
    "      len(df), \"possible\",\n",
    "      \"(~ {:.1f}%)\".format(100.0 * n_matches_vq / len(df)))"
   ]
  },
  {
   "cell_type": "markdown",
   "metadata": {
    "nbgrader": {
     "grade": false,
     "grade_id": "cell-4efa7d51cbbe88ec",
     "locked": true,
     "schema_version": 1,
     "solution": false
    }
   },
   "source": [
    "**Fin!** That marks the end of this notebook. Don't forget to submit it!"
   ]
  }
 ],
 "metadata": {
  "anaconda-cloud": [],
  "celltoolbar": "Create Assignment",
  "kernelspec": {
   "display_name": "Python 3",
   "language": "python",
   "name": "python3"
  },
  "language_info": {
   "codemirror_mode": {
    "name": "ipython",
    "version": 3
   },
   "file_extension": ".py",
   "mimetype": "text/x-python",
   "name": "python",
   "nbconvert_exporter": "python",
   "pygments_lexer": "ipython3",
   "version": "3.5.2"
  }
 },
 "nbformat": 4,
 "nbformat_minor": 1
}
